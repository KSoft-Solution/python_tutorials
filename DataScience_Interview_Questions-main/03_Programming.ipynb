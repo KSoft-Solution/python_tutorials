{
 "cells": [
  {
   "cell_type": "markdown",
   "metadata": {},
   "source": [
    "<small><small><i>\n",
    "All the IPython Notebooks in **Data Science Interview Questions** lecture series by **[Dr. Milaan Parmar](https://www.linkedin.com/in/milaanparmar/)** are available @ **[GitHub](https://github.com/milaan9/DataScience_Interview_Questions)**\n",
    "</i></small></small>"
   ]
  },
  {
   "cell_type": "markdown",
   "metadata": {},
   "source": [
    "# Programming ➞ <span class='label label-default'>14 Questions</span>"
   ]
  },
  {
   "cell_type": "markdown",
   "metadata": {},
   "source": [
    "### 1. Write a function to calculate all possible assignment vectors of `2n` users, where `n` users are assigned to group 0 (control), and `n` users are assigned to group 1 (treatment)."
   ]
  },
  {
   "cell_type": "markdown",
   "metadata": {
    "ExecuteTime": {
     "end_time": "2021-09-21T13:31:28.708336Z",
     "start_time": "2021-09-21T13:31:28.699521Z"
    }
   },
   "source": [
    "<span class='label label-default'>Solution</span>\n",
    "\n",
    "  - Recursive programming (sol in code)"
   ]
  },
  {
   "cell_type": "code",
   "execution_count": 1,
   "metadata": {
    "ExecuteTime": {
     "end_time": "2021-09-21T16:10:40.786976Z",
     "start_time": "2021-09-21T16:10:40.771303Z"
    }
   },
   "outputs": [
    {
     "name": "stdout",
     "output_type": "stream",
     "text": [
      "[[1, 1, 0, 0], [1, 0, 1, 0], [1, 0, 0, 1], [0, 1, 1, 0], [0, 1, 0, 1], [0, 0, 1, 1]]\n"
     ]
    }
   ],
   "source": [
    "def n_choose_k(n, k):\n",
    "    \"\"\" function to choose k from n \"\"\"\n",
    "    if k == 1:\n",
    "        ans = []\n",
    "        for i in range(n):\n",
    "            tmp = [0] * n\n",
    "            tmp[i] = 1\n",
    "            ans.append(tmp)\n",
    "        return ans\n",
    "\n",
    "    if k == n:\n",
    "        return [[1] * n]\n",
    "\n",
    "    ans = []\n",
    "    space = n - k + 1\n",
    "    for i in range(space):\n",
    "        assignment = [0] * (i + 1)\n",
    "        assignment[i] = 1\n",
    "        for c in n_choose_k(n - i - 1, k - 1):\n",
    "            ans.append(assignment + c)\n",
    "    return ans\n",
    "\n",
    "# test: choose 2 from 4\n",
    "print(n_choose_k(4, 2))"
   ]
  },
  {
   "cell_type": "markdown",
   "metadata": {},
   "source": [
    "### 2. Given a list of tweets, determine the top 10 most used hashtags."
   ]
  },
  {
   "cell_type": "markdown",
   "metadata": {},
   "source": [
    "<span class='label label-default'>Solution</span>\n",
    "\n",
    "  - Store all the hashtags in a dictionary and use priority queue to solve the top-k problem\n",
    "  - An extension will be top-k problem using Hadoop/MapReduce"
   ]
  },
  {
   "cell_type": "markdown",
   "metadata": {},
   "source": [
    "### 3. Program an algorithm to find the best approximate solution to the knapsack problem in a given time."
   ]
  },
  {
   "cell_type": "markdown",
   "metadata": {},
   "source": [
    "<span class='label label-default'>Solution</span>\n",
    "\n",
    "  - **[https://en.wikipedia.org/wiki/Knapsack_problem](https://en.wikipedia.org/wiki/Knapsack_problem)**\n",
    "  - Greedy solution (add the best v/w as much as possible and move on to the next)\n",
    "  - Dynamic programming"
   ]
  },
  {
   "cell_type": "markdown",
   "metadata": {},
   "source": [
    "### 4. Program an algorithm to find the best approximate solution to the traveling salesman problem in a given time."
   ]
  },
  {
   "cell_type": "markdown",
   "metadata": {},
   "source": [
    "<span class='label label-default'>Solution</span>\n",
    "\n",
    "  - **[https://en.wikipedia.org/wiki/Travelling_salesman_problem](https://en.wikipedia.org/wiki/Travelling_salesman_problem)**\n",
    "  - Greedy\n",
    "  - Dynamic programming"
   ]
  },
  {
   "cell_type": "markdown",
   "metadata": {},
   "source": [
    "### 5. You have a stream of data coming in of size n, but you don’t know what n is ahead of time. Write an algorithm that will take a random sample of `k` elements. Can you write one that takes `O(k)` space?"
   ]
  },
  {
   "cell_type": "markdown",
   "metadata": {},
   "source": [
    "<span class='label label-default'>Solution</span>\n",
    "\n",
    "  - **[Reservoir sampling](https://en.wikipedia.org/wiki/Reservoir_sampling)**"
   ]
  },
  {
   "cell_type": "markdown",
   "metadata": {},
   "source": [
    "### 6. Write an algorithm that can calculate the square root of a number."
   ]
  },
  {
   "cell_type": "markdown",
   "metadata": {},
   "source": [
    "<span class='label label-default'>Solution</span>\n",
    "\n",
    "  - Binary search or Newton's method"
   ]
  },
  {
   "cell_type": "markdown",
   "metadata": {},
   "source": [
    "### 7. Given a list of numbers, can you return the outliers?"
   ]
  },
  {
   "cell_type": "markdown",
   "metadata": {},
   "source": [
    "<span class='label label-default'>Solution</span>\n",
    "\n",
    "  - Sort then select the highest and the lowest 2.5%\n",
    "  - Visualization can helps a lot"
   ]
  },
  {
   "cell_type": "markdown",
   "metadata": {},
   "source": [
    "### 8. When can parallelism make your algorithms run faster? When could it make your algorithms run slower?"
   ]
  },
  {
   "cell_type": "markdown",
   "metadata": {},
   "source": [
    "<span class='label label-default'>Solution</span>\n",
    "\n",
    "  - Ask someone for more details.\n",
    "  - compute in parallel when communication cost < computation cost\n",
    "    - ensemble trees\n",
    "    - minibatch\n",
    "    - cross validation\n",
    "    - forward propagation\n",
    "    - minibatch\n",
    "    - not suitable for online learning"
   ]
  },
  {
   "cell_type": "markdown",
   "metadata": {},
   "source": [
    "### 9. What are the different types of joins? What are the differences between them?"
   ]
  },
  {
   "cell_type": "markdown",
   "metadata": {},
   "source": [
    "<span class='label label-default'>Solution</span>\n",
    "\n",
    "  - Inner Join, Left Join, Right Join, Outer Join, Self Join"
   ]
  },
  {
   "cell_type": "markdown",
   "metadata": {},
   "source": [
    "### 10. Why might a join on a subquery be slow? How might you speed it up?"
   ]
  },
  {
   "cell_type": "markdown",
   "metadata": {},
   "source": [
    "<span class='label label-default'>Solution</span>\n",
    "\n",
    "  - Change the subquery to a join.\n",
    "  - **[Stack Overflow Answers](https://stackoverflow.com/questions/31724903/why-might-a-join-on-a-subquery-be-slow-what-could-be-done-to-make-it-faster-s)**"
   ]
  },
  {
   "cell_type": "markdown",
   "metadata": {},
   "source": [
    "### 11. Describe the difference between primary keys and foreign keys in a SQL database."
   ]
  },
  {
   "cell_type": "markdown",
   "metadata": {},
   "source": [
    "<span class='label label-default'>Solution</span>\n",
    "\n",
    "  - Primary keys are columns whose value combinations must be unique in a specific table so that each row can be referenced uniquely.\n",
    "  - Foreign keys are columns that references columns (often primary keys) in other tables."
   ]
  },
  {
   "cell_type": "markdown",
   "metadata": {},
   "source": [
    "### 12. Given a **COURSES** table with columns **course_id** and **course_name**, a **FACULTY** table with columns **faculty_id** and **faculty_name**, and a **COURSE_FACULTY** table with columns **faculty_id** and **course_id**, how would you return a list of faculty who teach a course given the name of a course?"
   ]
  },
  {
   "cell_type": "markdown",
   "metadata": {},
   "source": [
    "<span class='label label-default'>Solution</span>\n",
    "\n",
    "```SQL\n",
    "SELECT f.faculty_name\n",
    "FROM COURSES c\n",
    "JOIN COURSE_FACULTY cf\n",
    "    ON c.course_id = cf.course_id\n",
    "JOIN FACULTY\n",
    "    ON f.faculty_id = cf.faculty_id\n",
    "WHERE c.course_name = xxx;\n",
    "```"
   ]
  },
  {
   "cell_type": "markdown",
   "metadata": {},
   "source": [
    "### 13. Given a **IMPRESSIONS** table with **ad_id**, **click** (an indicator that the ad was clicked), and **date**, write a SQL query that will tell me the click-through-rate of each ad by month."
   ]
  },
  {
   "cell_type": "markdown",
   "metadata": {},
   "source": [
    "<span class='label label-default'>Solution</span>\n",
    "\n",
    "```SQL\n",
    "SELECT ad_id, MONTH(date), AVG(click)\n",
    "FROM IMPRESSIONS\n",
    "GROUP BY ad_id, MONTH(date);\n",
    "```"
   ]
  },
  {
   "cell_type": "markdown",
   "metadata": {},
   "source": [
    "### 14. Write a query that returns the name of each department and a count of the number of employees in each:  \n",
    "\n",
    "- **EMPLOYEES** containing: **Emp_ID** (Primary key) and **Emp_Name**  \n",
    "- **EMPLOYEE_DEPT** containing: **Emp_ID** (Foreign key) and **Dept_ID** (Foreign key)  \n",
    "- **DEPTS** containing: **Dept_ID** (Primary key) and **Dept_Name**"
   ]
  },
  {
   "cell_type": "markdown",
   "metadata": {},
   "source": [
    "<span class='label label-default'>Solution</span>\n",
    "\n",
    "```SQL\n",
    "SELECT d.Dept_Name, COUNT(*)\n",
    "FROM DEPTS d\n",
    "LEFT JOIN EMPLOYEE_DEPT ed\n",
    "    ON d.Dept_ID = ed.Dept_ID\n",
    "GROUP BY d.Dept_Name;\n",
    "```"
   ]
  },
  {
   "cell_type": "code",
   "execution_count": null,
   "metadata": {},
   "outputs": [],
   "source": []
  }
 ],
 "metadata": {
  "hide_input": false,
  "kernelspec": {
   "display_name": "Python 3",
   "language": "python",
   "name": "python3"
  },
  "language_info": {
   "codemirror_mode": {
    "name": "ipython",
    "version": 3
   },
   "file_extension": ".py",
   "mimetype": "text/x-python",
   "name": "python",
   "nbconvert_exporter": "python",
   "pygments_lexer": "ipython3",
   "version": "3.8.8"
  },
  "toc": {
   "base_numbering": 1,
   "nav_menu": {},
   "number_sections": true,
   "sideBar": true,
   "skip_h1_title": false,
   "title_cell": "Table of Contents",
   "title_sidebar": "Contents",
   "toc_cell": false,
   "toc_position": {},
   "toc_section_display": true,
   "toc_window_display": false
  },
  "varInspector": {
   "cols": {
    "lenName": 16,
    "lenType": 16,
    "lenVar": 40
   },
   "kernels_config": {
    "python": {
     "delete_cmd_postfix": "",
     "delete_cmd_prefix": "del ",
     "library": "var_list.py",
     "varRefreshCmd": "print(var_dic_list())"
    },
    "r": {
     "delete_cmd_postfix": ") ",
     "delete_cmd_prefix": "rm(",
     "library": "var_list.r",
     "varRefreshCmd": "cat(var_dic_list()) "
    }
   },
   "types_to_exclude": [
    "module",
    "function",
    "builtin_function_or_method",
    "instance",
    "_Feature"
   ],
   "window_display": false
  }
 },
 "nbformat": 4,
 "nbformat_minor": 2
}
