{
 "cells": [
  {
   "cell_type": "markdown",
   "metadata": {},
   "source": [
    "<small><small><i>\n",
    "All the IPython Notebooks in **Data Science Interview Questions** lecture series by **[Dr. Milaan Parmar](https://www.linkedin.com/in/milaanparmar/)** are available @ **[GitHub](https://github.com/milaan9/DataScience_Interview_Questions)**\n",
    "</i></small></small>"
   ]
  },
  {
   "cell_type": "markdown",
   "metadata": {},
   "source": [
    "# Data Analysis ➞ <span class='label label-default'>27 Questions</span>"
   ]
  },
  {
   "cell_type": "markdown",
   "metadata": {},
   "source": [
    "### 1. (Given a Dataset) Analyze this dataset and tell me what you can learn from it."
   ]
  },
  {
   "cell_type": "markdown",
   "metadata": {
    "ExecuteTime": {
     "end_time": "2021-09-21T13:31:28.708336Z",
     "start_time": "2021-09-21T13:31:28.699521Z"
    }
   },
   "source": [
    "<span class='label label-default'>Solution</span>\n",
    "\n",
    "- Typical data cleaning and visualization."
   ]
  },
  {
   "cell_type": "markdown",
   "metadata": {},
   "source": [
    "### 2. What is `R2`? What are some other metrics that could be better than `R2` and why?"
   ]
  },
  {
   "cell_type": "markdown",
   "metadata": {},
   "source": [
    "<span class='label label-default'>Solution</span>\n",
    "\n",
    "- goodness of fit measure. variance explained by the regression / total variance.\n",
    "  \n",
    "  - the more predictors you add, the higher $R^2$ becomes.\n",
    "    - hence use adjusted $R^2$ which adjusts for the degrees of freedom. \n",
    "    - or train error metrics."
   ]
  },
  {
   "cell_type": "markdown",
   "metadata": {},
   "source": [
    "### 3. What is the curse of dimensionality?"
   ]
  },
  {
   "cell_type": "markdown",
   "metadata": {},
   "source": [
    "<span class='label label-default'>Solution</span>\n",
    "\n",
    "- High dimensionality makes clustering hard, because having lots of dimensions means that everything is **\"far away\"** from each other.\n",
    "  - For example, to cover a fraction of the volume of the data we need to capture a very wide range for each variable as the number of variables increases.\n",
    "  - All samples are close to the edge of the sample. And this is a bad news because prediction is much more difficult near the edges of the training sample.\n",
    "  - The sampling density decreases exponentially as p increases and hence the data becomes much more sparse without significantly more data. \n",
    "  - We should conduct PCA to reduce dimensionality."
   ]
  },
  {
   "cell_type": "markdown",
   "metadata": {},
   "source": [
    "### 4. Is more data always better?"
   ]
  },
  {
   "cell_type": "markdown",
   "metadata": {},
   "source": [
    "<span class='label label-default'>Solution</span>\n",
    "\n",
    "- **Statistically**\n",
    "    - It depends on the quality of your data, for example, if your data is biased, just getting more data won’t help.\n",
    "    - It depends on your model. If your model suffers from high bias, getting more data won’t improve your test results beyond a point. You’d need to add more features, etc.\n",
    "    \n",
    "  - **Practically**\n",
    "    - More data usually benefit the models.\n",
    "    - Also there’s a tradeoff between having more data and the additional storage, computational power, memory it requires. Hence, always think about the cost of having more data."
   ]
  },
  {
   "cell_type": "markdown",
   "metadata": {},
   "source": [
    "### 5. What are advantages of plotting your data before performing analysis?"
   ]
  },
  {
   "cell_type": "markdown",
   "metadata": {},
   "source": [
    "<span class='label label-default'>Solution</span>\n",
    "\n",
    "- Data sets have errors. You won't find them all but you might find some. That 212 year old man. That 9 foot tall woman.  \n",
    "  - Variables can have skewness, outliers, etc. Then the arithmetic mean might not be useful, which means the standard deviation isn't useful.\n",
    "  - Variables can be multimodal! If a variable is multimodal then anything based on its mean or median is going to be suspect."
   ]
  },
  {
   "cell_type": "markdown",
   "metadata": {},
   "source": [
    "### 6. How can you make sure that you don’t analyze something that ends up meaningless?"
   ]
  },
  {
   "cell_type": "markdown",
   "metadata": {},
   "source": [
    "<span class='label label-default'>Solution</span>\n",
    "\n",
    "- Proper exploratory data analysis.  \n",
    "  - In every data analysis task, there's the exploratory phase where you're just graphing things, testing things on small sets of the data, summarizing simple statistics, and getting rough ideas of what hypotheses you might want to pursue further.  \n",
    "  - Then there's the exploratory phase, where you look deeply into a set of hypotheses.   \n",
    "  - The exploratory phase will generate lots of possible hypotheses, and the exploratory phase will let you really understand a few of them. Balance the two and you'll prevent yourself from wasting time on many things that end up meaningless, although not all."
   ]
  },
  {
   "cell_type": "markdown",
   "metadata": {},
   "source": [
    "### 7. What is the role of trial and error in data analysis? What is the the role of making a hypothesis before diving in?"
   ]
  },
  {
   "cell_type": "markdown",
   "metadata": {},
   "source": [
    "<span class='label label-default'>Solution</span>\n",
    "\n",
    "- data analysis is a repetition of setting up a new hypothesis and trying to refute the null hypothesis.\n",
    "  - The scientific method is eminently inductive: we elaborate a hypothesis, test it and refute it or not. As a result, we come up with new hypotheses which are in turn tested and so on. This is an iterative process, as science always is."
   ]
  },
  {
   "cell_type": "markdown",
   "metadata": {},
   "source": [
    "### 8. How can you determine which features are the most important in your model?"
   ]
  },
  {
   "cell_type": "markdown",
   "metadata": {},
   "source": [
    "<span class='label label-default'>Solution</span>\n",
    "\n",
    "- Linear regression can use p-value\n",
    "  - run the features though a Gradient Boosting Machine or Random Forest to generate plots of relative importance and information gain for each feature in the ensembles.\n",
    "  - Look at the variables added in forward variable selection. "
   ]
  },
  {
   "cell_type": "markdown",
   "metadata": {},
   "source": [
    "### 9. How do you deal with some of your predictors being missing?"
   ]
  },
  {
   "cell_type": "markdown",
   "metadata": {},
   "source": [
    "<span class='label label-default'>Solution</span>\n",
    "\n",
    "- Remove rows with missing values - This works well if\n",
    "    - the values are missing randomly (see [Vinay Prabhu's answer](https://www.quora.com/How-can-I-deal-with-missing-values-in-a-predictive-model/answer/Vinay-Prabhu-7) for more details on this)\n",
    "    - if you don't lose too much of the dataset after doing so.\n",
    "  - Build another predictive model to predict the missing values.\n",
    "    - This could be a whole project in itself, so simple techniques are usually used here.\n",
    "  - Use a model that can incorporate missing data. \n",
    "    - Like a random forest, or any tree-based method."
   ]
  },
  {
   "cell_type": "markdown",
   "metadata": {},
   "source": [
    "### 10. You have several variables that are positively correlated with your response, and you think combining all of the variables could give you a good prediction of your response. However, you see that in the multiple linear regression, one of the weights on the predictors is negative. What could be the issue?"
   ]
  },
  {
   "cell_type": "markdown",
   "metadata": {},
   "source": [
    "<span class='label label-default'>Solution</span>\n",
    "\n",
    "  - Multicollinearity refers to a situation in which two or more explanatory variables in a [multiple regression](https://en.wikipedia.org/wiki/Multiple_regression \"Multiple regression\") model are highly linearly related. \n",
    "  - Leave the model as is, despite multicollinearity. The presence of multicollinearity doesn't affect the efficiency of extrapolating the fitted model to new data provided that the predictor variables follow the same pattern of multicollinearity in the new data as in the data on which the regression model is based.\n",
    "  - principal component regression"
   ]
  },
  {
   "cell_type": "markdown",
   "metadata": {},
   "source": [
    "### 11. Let’s say you’re given an unfeasible amount of predictors in a predictive modeling task. What are some ways to make the prediction more feasible?"
   ]
  },
  {
   "cell_type": "markdown",
   "metadata": {},
   "source": [
    "<span class='label label-default'>Solution</span>\n",
    "\n",
    "  - PCA"
   ]
  },
  {
   "cell_type": "markdown",
   "metadata": {},
   "source": [
    "### 12. Now you have a feasible amount of predictors, but you’re fairly sure that you don’t need all of them. How would you perform feature selection on the dataset?"
   ]
  },
  {
   "cell_type": "markdown",
   "metadata": {},
   "source": [
    "<span class='label label-default'>Solution</span>\n",
    "\n",
    "  - ridge / lasso / elastic net regression.\n",
    "  - Univariate Feature Selection where a statistical test is applied to each feature individually. You retain only the best features according to the test outcome scores.\n",
    "  - Recursive Feature Elimination:  \n",
    "    - First, train a model with all the feature and evaluate its performance on held out data.\n",
    "    - Then drop let say the 10% weakest features (e.g. the feature with least absolute coefficients in a linear model) and retrain on the remaining features.\n",
    "    - Iterate until you observe a sharp drop in the predictive accuracy of the model."
   ]
  },
  {
   "cell_type": "markdown",
   "metadata": {},
   "source": [
    "### 13. Your linear regression didn’t run and communicates that there are an infinite number of best estimates for the regression coefficients. What could be wrong?"
   ]
  },
  {
   "cell_type": "markdown",
   "metadata": {},
   "source": [
    "<span class='label label-default'>Solution</span>\n",
    "\n",
    "  - p > n.\n",
    "  - If some of the explanatory variables are perfectly correlated (positively or negatively) then the coefficients would not be unique. "
   ]
  },
  {
   "cell_type": "markdown",
   "metadata": {},
   "source": [
    "### 14. You run your regression on different subsets of your data, and find that in each subset, the beta value for a certain variable varies wildly. What could be the issue here?"
   ]
  },
  {
   "cell_type": "markdown",
   "metadata": {},
   "source": [
    "<span class='label label-default'>Solution</span>\n",
    "\n",
    "  - The dataset might be heterogeneous. In which case, it is recommended to cluster datasets into different subsets wisely, and then draw different models for different subsets. Or, use models like non parametric models (trees) which can deal with heterogeneity quite nicely."
   ]
  },
  {
   "cell_type": "markdown",
   "metadata": {},
   "source": [
    "### 15. What is the main idea behind ensemble learning? If I had many different models that predicted the same response variable, what might I want to do to incorporate all of the models? Would you expect this to perform better than an individual model or worse?"
   ]
  },
  {
   "cell_type": "markdown",
   "metadata": {},
   "source": [
    "<span class='label label-default'>Solution</span>\n",
    "\n",
    "  - The assumption is that a group of weak learners can be combined to form a strong learner.\n",
    "  - Hence the combined model is expected to perform better than an individual model.\n",
    "  - Assumptions:\n",
    "    - average out biases\n",
    "    - reduce variance\n",
    "  - Bagging works because some underlying learning algorithms are unstable: slightly different inputs leads to very different outputs. If you can take advantage of this instability by running multiple instances, it can be shown that the reduced instability leads to lower error. If you want to understand why, the original bagging paper( [http://www.springerlink.com/](http://www.springerlink.com/content/l4780124w2874025/)) has a section called \"why bagging works\"\n",
    "  - Boosting works because of the focus on better defining the \"decision edge\". By re-weighting examples near the margin (the positive and negative examples) you get a reduced error (see http://citeseerx.ist.psu.edu/vie...)\n",
    "  - Use the outputs of your models as inputs to a meta-model.   \n",
    "\n",
    "**For example:** if you're doing binary classification, you can use all the probability outputs of your individual models as inputs to a final logistic regression (or any model, really) that can combine the probability estimates.  \n",
    "\n",
    "One very important point is to make sure that the output of your models are out-of-sample predictions. This means that the predicted value for any row in your data-frame should NOT depend on the actual value for that row."
   ]
  },
  {
   "cell_type": "markdown",
   "metadata": {},
   "source": [
    "### 16. Given that you have wi-fi data in your office, how would you determine which rooms and areas are underutilized and over-utilized?"
   ]
  },
  {
   "cell_type": "markdown",
   "metadata": {},
   "source": [
    "<span class='label label-default'>Solution</span>\n",
    "\n",
    "  - If the data is more used in one room, then that one is over utilized!\n",
    "  - Maybe account for the room capacity and normalize the data."
   ]
  },
  {
   "cell_type": "markdown",
   "metadata": {},
   "source": [
    "### 17. How could you use GPS data from a car to determine the quality of a driver?"
   ]
  },
  {
   "cell_type": "markdown",
   "metadata": {},
   "source": [
    "<span class='label label-default'>Solution</span>\n",
    "\n",
    "  - Speed\n",
    "  - Driving paths"
   ]
  },
  {
   "cell_type": "markdown",
   "metadata": {},
   "source": [
    "### 18. Given accelerometer, altitude, and fuel usage data from a car, how would you determine the optimum acceleration pattern to drive over hills?"
   ]
  },
  {
   "cell_type": "markdown",
   "metadata": {},
   "source": [
    "<span class='label label-default'>Solution</span>\n",
    "\n",
    "  - Historical data?"
   ]
  },
  {
   "cell_type": "markdown",
   "metadata": {},
   "source": [
    "### 19. Given position data of NBA players in a season’s games, how would you evaluate a basketball player’s defensive ability?"
   ]
  },
  {
   "cell_type": "markdown",
   "metadata": {},
   "source": [
    "<span class='label label-default'>Solution</span>\n",
    "\n",
    "  - Evaluate his positions in the court."
   ]
  },
  {
   "cell_type": "markdown",
   "metadata": {},
   "source": [
    "### 20. How would you quantify the influence of a Twitter user?"
   ]
  },
  {
   "cell_type": "markdown",
   "metadata": {},
   "source": [
    "<span class='label label-default'>Solution</span>\n",
    "\n",
    "  - like page rank with each user corresponding to the webpages and linking to the page equivalent to following."
   ]
  },
  {
   "cell_type": "markdown",
   "metadata": {},
   "source": [
    "### 21. Given location data of golf balls in games, how would construct a model that can advise golfers where to aim?"
   ]
  },
  {
   "cell_type": "markdown",
   "metadata": {},
   "source": [
    "<span class='label label-default'>Solution</span>\n",
    "\n",
    "  - winning probability for different positions."
   ]
  },
  {
   "cell_type": "markdown",
   "metadata": {},
   "source": [
    "### 22. You have 100 mathletes and 100 math problems. Each mathlete gets to choose 10 problems to solve. Given data on who got what problem correct, how would you rank the problems in terms of difficulty?"
   ]
  },
  {
   "cell_type": "markdown",
   "metadata": {},
   "source": [
    "<span class='label label-default'>Solution</span>\n",
    "\n",
    "  - One way you could do this is by storing a \"skill level\" for each user and a \"difficulty level\" for each problem.  We assume that the probability that a user solves a problem only depends on the skill of the user and the difficulty of the problem.*  Then we maximize the likelihood of the data to find the hidden skill and difficulty levels.\n",
    "  - The Rasch model for dichotomous data takes the form:  \n",
    "  \n",
    "$ {\\displaystyle \\Pr {X_{ni}=1\\\\} = {\\frac {\\exp({\\beta_{n}}-{\\delta_{i}})}{1+\\exp({\\beta_{n}}-{\\delta_{i}})}},} $\n",
    "\n",
    "where  is the ability of person  and  is the difficulty of item."
   ]
  },
  {
   "cell_type": "markdown",
   "metadata": {},
   "source": [
    "### 23. You have 5000 people that rank 10 sushis in terms of saltiness. How would you aggregate this data to estimate the true saltiness rank in each sushi?"
   ]
  },
  {
   "cell_type": "markdown",
   "metadata": {},
   "source": [
    "<span class='label label-default'>Solution</span>\n",
    "\n",
    "  - Some people would take the mean rank of each sushi.  If I wanted something simple, I would use the median, since ranks are (strictly speaking) ordinal and not interval, so adding them is a bit risque (but people do it all the time and you probably won't be far wrong)."
   ]
  },
  {
   "cell_type": "markdown",
   "metadata": {},
   "source": [
    "### 24. Given data on congressional bills and which congressional representatives co-sponsored the bills, how would you determine which other representatives are most similar to yours in voting behavior? How would you evaluate who is the most liberal? Most republican? Most bipartisan?"
   ]
  },
  {
   "cell_type": "markdown",
   "metadata": {},
   "source": [
    "<span class='label label-default'>Solution</span>\n",
    "\n",
    "  - collaborative filtering. you have your votes and we can calculate the similarity for each representatives and select the most similar representative.\n",
    "  - for liberal and republican parties, find the mean vector and find the representative closest to the center point."
   ]
  },
  {
   "cell_type": "markdown",
   "metadata": {},
   "source": [
    "### 25. How would you come up with an algorithm to detect plagiarism in online content?"
   ]
  },
  {
   "cell_type": "markdown",
   "metadata": {},
   "source": [
    "<span class='label label-default'>Solution</span>\n",
    "\n",
    "  - reduce the text to a more compact form (e.g. fingerprinting, bag of words) then compare those with other texts by calculating the similarity."
   ]
  },
  {
   "cell_type": "markdown",
   "metadata": {},
   "source": [
    "### 26. You have data on all purchases of customers at a grocery store. Describe to me how you would program an algorithm that would cluster the customers into groups. How would you determine the appropriate number of clusters to include?"
   ]
  },
  {
   "cell_type": "markdown",
   "metadata": {},
   "source": [
    "<span class='label label-default'>Solution</span>\n",
    "\n",
    "  - K-means\n",
    "  - choose a small value of k that still has a low SSE (elbow method)\n",
    "  - [Elbow method](https://bl.ocks.org/rpgove/0060ff3b656618e9136b)"
   ]
  },
  {
   "cell_type": "markdown",
   "metadata": {},
   "source": [
    "### 27. Let’s say you’re building the recommended music engine at Spotify to recommend people music based on past listening history. How would you approach this problem?"
   ]
  },
  {
   "cell_type": "markdown",
   "metadata": {},
   "source": [
    "<span class='label label-default'>Solution</span>\n",
    "\n",
    "  - content-based filtering\n",
    "  - collaborative filtering"
   ]
  },
  {
   "cell_type": "markdown",
   "metadata": {},
   "source": []
  },
  {
   "cell_type": "markdown",
   "metadata": {},
   "source": [
    "<span class='label label-default'>Solution</span>\n",
    "\n"
   ]
  }
 ],
 "metadata": {
  "hide_input": false,
  "kernelspec": {
   "display_name": "Python 3",
   "language": "python",
   "name": "python3"
  },
  "language_info": {
   "codemirror_mode": {
    "name": "ipython",
    "version": 3
   },
   "file_extension": ".py",
   "mimetype": "text/x-python",
   "name": "python",
   "nbconvert_exporter": "python",
   "pygments_lexer": "ipython3",
   "version": "3.8.8"
  },
  "toc": {
   "base_numbering": 1,
   "nav_menu": {},
   "number_sections": true,
   "sideBar": true,
   "skip_h1_title": false,
   "title_cell": "Table of Contents",
   "title_sidebar": "Contents",
   "toc_cell": false,
   "toc_position": {},
   "toc_section_display": true,
   "toc_window_display": false
  },
  "varInspector": {
   "cols": {
    "lenName": 16,
    "lenType": 16,
    "lenVar": 40
   },
   "kernels_config": {
    "python": {
     "delete_cmd_postfix": "",
     "delete_cmd_prefix": "del ",
     "library": "var_list.py",
     "varRefreshCmd": "print(var_dic_list())"
    },
    "r": {
     "delete_cmd_postfix": ") ",
     "delete_cmd_prefix": "rm(",
     "library": "var_list.r",
     "varRefreshCmd": "cat(var_dic_list()) "
    }
   },
   "types_to_exclude": [
    "module",
    "function",
    "builtin_function_or_method",
    "instance",
    "_Feature"
   ],
   "window_display": false
  }
 },
 "nbformat": 4,
 "nbformat_minor": 2
}
