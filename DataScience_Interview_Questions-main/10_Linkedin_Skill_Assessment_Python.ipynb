{
 "cells": [
  {
   "cell_type": "markdown",
   "metadata": {},
   "source": [
    "<small><small><i>\n",
    "All the IPython Notebooks in **Data Science Interview Questions** lecture series by **[Dr. Milaan Parmar](https://www.linkedin.com/in/milaanparmar/)** are available @ **[GitHub](https://github.com/milaan9/DataScience_Interview_Questions)**\n",
    "</i></small></small>"
   ]
  },
  {
   "cell_type": "markdown",
   "metadata": {},
   "source": [
    "# Linkedin Skill Assessment\n",
    "\n",
    "## Python ➞ <span class='label label-default'>80 Questions</span>"
   ]
  },
  {
   "cell_type": "markdown",
   "metadata": {},
   "source": [
    "### Q1. What is an abstract class?\n",
    "\n",
    "<span class='label label-default'>Solution</span>\n",
    "\n",
    "- [ ] An abstract class is the name for any class from which you can instantiate an object.\n",
    "- [ ] Abstract classes must be redefined any time an object is instantiated from them.\n",
    "- [ ] Abstract classes must inherit from concrete classes.\n",
    "- [x] An abstract class exists only so that other \"concrete\" classes can inherit from the abstract class."
   ]
  },
  {
   "cell_type": "markdown",
   "metadata": {},
   "source": [
    "### Q2. What happens when you use the build-in function `any()` on a list?\n",
    "\n",
    "<span class='label label-default'>Solution</span>\n",
    "\n",
    "- [ ] The **`any()`** function will randomly return any item from the list.\n",
    "- [x] The **`any()`** function returns **`True`** if any item in the list evaluates to **`True`**. Otherwise, it returns **`False`**.\n",
    "- [ ] The **`any()`** function takes as arguments the list to check inside, and the item to check for. If **\"any\"** of the items in the list match the item to check for, the function returns **`True`**.\n",
    "- [ ] The **`any()`** function returns a Boolean value that answers the question **\"Are there any items in this list?\"**"
   ]
  },
  {
   "cell_type": "markdown",
   "metadata": {},
   "source": [
    "### Q3. What data structure does a binary tree degenerate to if it isn't balanced properly?\n",
    "\n",
    "<span class='label label-default'>Solution</span>\n",
    "\n",
    "- [x] linked list\n",
    "- [ ] queue\n",
    "- [ ] set\n",
    "- [ ] OrderedDict"
   ]
  },
  {
   "cell_type": "markdown",
   "metadata": {},
   "source": [
    "### Q4. What statement about static methods is true?\n",
    "\n",
    "<span class='label label-default'>Solution</span>\n",
    "\n",
    "- [ ] Static methods are called static because they always return **`None`**.\n",
    "- [ ] Static methods can be bound to either a class or an instance of a class.\n",
    "- [x] Static methods serve mostly as utility methods or helper methods, since they can't access or modify a class's state.\n",
    "- [ ] Static methods can access and modify the state of a class or an instance of a class."
   ]
  },
  {
   "cell_type": "markdown",
   "metadata": {},
   "source": [
    "### Q5. What are attributes?\n",
    "\n",
    "<span class='label label-default'>Solution</span>\n",
    "\n",
    "- [ ] Attributes are long-form version of an **`if/else`** statement, used when testing for equality between objects.\n",
    "- [x] Attributes are a way to hold data or describe a state for a class or an instance of a class.\n",
    "- [ ] Attributes are strings that describe characteristics of a class.\n",
    "- [ ] Function arguments are called **attributes** in the context of class methods and instance methods."
   ]
  },
  {
   "cell_type": "markdown",
   "metadata": {},
   "source": [
    "### Q6. What is the term to describe this code?\n",
    "\n",
    "<span class='label label-default'>Solution</span>\n",
    "\n",
    "`count, fruit, price = (2, 'apple', 3.5)`\n",
    "\n",
    "- [ ] **`tuple assignment`**\n",
    "- [x] **`tuple unpacking`**\n",
    "- [ ] **`tuple matching`**\n",
    "- [ ] **`tuple duplication`**"
   ]
  },
  {
   "cell_type": "markdown",
   "metadata": {},
   "source": [
    "### Q7. What built-in list method would you use to remove items from a list?\n",
    "\n",
    "<span class='label label-default'>Solution</span>\n",
    "\n",
    "- [ ] **`\".delete()\" method`**\n",
    "- [ ] **`pop(my_list)`**\n",
    "- [ ] **`del(my_list)`**\n",
    "- [x] **`\".pop()\" method`**"
   ]
  },
  {
   "cell_type": "markdown",
   "metadata": {},
   "source": [
    "### Q8. What is one of the most common use of Python's sys library?\n",
    "\n",
    "<span class='label label-default'>Solution</span>\n",
    "\n",
    "- [x] to capture command-line arguments given at a file's runtime\n",
    "- [ ] to connect various systems, such as connecting a web front end, an API service, a database, and a mobile app\n",
    "- [ ] to take a snapshot of all the packages and libraries in your virtual environment\n",
    "- [ ] to scan the health of your Python ecosystem while inside a virtual environment"
   ]
  },
  {
   "cell_type": "markdown",
   "metadata": {},
   "source": [
    "### Q9. What is the runtime of accessing a value in a dictionary by using its key?\n",
    "\n",
    "<span class='label label-default'>Solution</span>\n",
    "\n",
    "- [ ] $O(n)$, also called linear time.\n",
    "- [ ] $O(log n)$, also called logarithmic time.\n",
    "- [ ] $O(n^2)$, also called quadratic time.\n",
    "- [x] $O(1)$, also called constant time."
   ]
  },
  {
   "cell_type": "markdown",
   "metadata": {},
   "source": [
    "### Q10. What is the correct syntax for defining a class called Game?\n",
    "\n",
    "<span class='label label-default'>Solution</span>\n",
    "\n",
    "- [x] **`class Game: pass`**\n",
    "- [ ] **`def Game(): pass`**\n",
    "- [ ] **`def Game: pass`**\n",
    "- [ ] **`class Game(): pass`**"
   ]
  },
  {
   "cell_type": "markdown",
   "metadata": {},
   "source": [
    "### Q11. What is the correct way to write a doctest?\n",
    "\n",
    "<span class='label label-default'>Solution</span>\n",
    "\n",
    "- [ ] A \n",
    "\n",
    "```python\n",
    "def sum(a, b):\n",
    "    \"\"\"\n",
    "    sum(4, 3)\n",
    "    7\n",
    "    sum(-4, 5)\n",
    "    1\n",
    "    \"\"\"\n",
    "    return a + b\n",
    "```\n",
    "\n",
    "- [x] B \n",
    "\n",
    "```python\n",
    "def sum(a, b):\n",
    "    \"\"\"\n",
    "    >>> sum(4, 3)\n",
    "    7\n",
    "    >>> sum(-4, 5)\n",
    "    1\n",
    "    \"\"\"\n",
    "    return a + b\n",
    "```\n",
    "\n",
    "- [ ] C \n",
    "\n",
    "```python\n",
    "def sum(a, b):\n",
    "    \"\"\"\n",
    "    # >>> sum(4, 3)\n",
    "    # 7\n",
    "    # >>> sum(-4, 5)\n",
    "    # 1\n",
    "    \"\"\"\n",
    "    return a + b\n",
    "```\n",
    "\n",
    "- [ ] D \n",
    "\n",
    "```python\n",
    "def sum(a, b):\n",
    "    ###\n",
    "    >>> sum(4, 3)\n",
    "    7\n",
    "    >>> sum(-4, 5)\n",
    "    1\n",
    "    ###\n",
    "    return a + b\n",
    "```"
   ]
  },
  {
   "cell_type": "markdown",
   "metadata": {},
   "source": [
    "### Q12. What built-in Python data type is commonly used to represent a stack?\n",
    "\n",
    "<span class='label label-default'>Solution</span>\n",
    "\n",
    "- [ ] **`set`**\n",
    "- [x] **`list`**\n",
    "- [ ] **`None`**. You can only build a stack from scratch.\n",
    "- [ ] **`dictionary`**"
   ]
  },
  {
   "cell_type": "markdown",
   "metadata": {},
   "source": [
    "### Q13. What would this expression return?\n",
    "\n",
    "<span class='label label-default'>Solution</span>\n",
    "\n",
    "```python\n",
    "college_years = ['Freshman', 'Sophomore', 'Junior', 'Senior']\n",
    "return list(enumerate(college_years, 2019))\n",
    "```\n",
    "\n",
    "- [ ] **`[('Freshman', 2019), ('Sophomore', 2020), ('Junior', 2021), ('Senior', 2022)]`**\n",
    "- [ ] **`[(2019, 2020, 2021, 2022), ('Freshman', 'Sophomore', 'Junior', 'Senior')]`**\n",
    "- [ ] **`[('Freshman', 'Sophomore', 'Junior', 'Senior'), (2019, 2020, 2021, 2022)]`**\n",
    "- [x] **`[(2019, 'Freshman'), (2020, 'Sophomore'), (2021, 'Junior'), (2022, 'Senior')]`**"
   ]
  },
  {
   "cell_type": "markdown",
   "metadata": {},
   "source": [
    "### Q14. How does `defaultdict` work?\n",
    "\n",
    "<span class='label label-default'>Solution</span>\n",
    "\n",
    "- [ ] **`defaultdict`** will automatically create a dictionary for you that has keys which are the integers 0-10.\n",
    "- [ ] **`defaultdict`** forces a dictionary to only accept keys that are of the types specified when you created the **`defaultdict`** (such as string or integers).\n",
    "- [x] If you try to access a key in a dictionary that doesn't exist, **`defaultdict`** will create a new key for you instead of throwing a **`KeyError`**.\n",
    "- [ ] **`defaultdict`** stores a copy of a dictionary in memory that you can default to if the original gets unintentionally modified."
   ]
  },
  {
   "cell_type": "markdown",
   "metadata": {},
   "source": [
    "### Q15. What is the correct syntax for defining a class called `Game`, if it inherits from a parent class called `LogicGame`?\n",
    "\n",
    "<span class='label label-default'>Solution</span>\n",
    "\n",
    "- [ ] **`class Game.LogicGame(): pass`**\n",
    "- [ ] **`def Game(LogicGame): pass`**\n",
    "- [x] **`class Game(LogicGame): pass`**\n",
    "- [ ] **`def Game.LogicGame(): pass`**"
   ]
  },
  {
   "cell_type": "markdown",
   "metadata": {},
   "source": [
    "### Q16. What is the purpose of the `self` keyword when defining or calling instance methods?\n",
    "\n",
    "<span class='label label-default'>Solution</span>\n",
    "\n",
    "- [ ] **`self`** means that no other arguments are required to be passed into the method.\n",
    "- [ ] There is no real purpose for the **`self`** method; it's just historic computer science jargon that Python keeps to stay consistent with other programming languages.\n",
    "- [x] **`self`** refers to the instance whose method was called.\n",
    "- [ ] **`self`** refers to the class that was inherited from to create the object using **`self`**."
   ]
  },
  {
   "cell_type": "markdown",
   "metadata": {},
   "source": [
    "### Q17. Which of these is NOT a characteristic of namedtuples?\n",
    "\n",
    "<span class='label label-default'>Solution</span>\n",
    "\n",
    "- [ ] You can assign a name to each of the **`namedtuple`** members and refer to them that way, similarly to how you would access keys in **`dictionary`**.\n",
    "- [ ] Each member of a namedtuple object can be indexed to directly, just like in a regular **`tuple`**.\n",
    "- [ ] **`namedtuples`** are just as memory efficient as regular **`tuples`**.\n",
    "- [x] No import is needed to use **`namedtuples`** because they are available in the standard library."
   ]
  },
  {
   "cell_type": "markdown",
   "metadata": {},
   "source": [
    "### Q18. What is an instance method?\n",
    "\n",
    "<span class='label label-default'>Solution</span>\n",
    "\n",
    "- [x] Instance methods can modify the state of an instance or the state of its parent class.\n",
    "- [ ] Instance methods hold data related to the instance.\n",
    "- [ ] An instance method is any class method that doesn't take any arguments.\n",
    "- [ ] An instance method is a regular function that belongs to a class, but it must return **`None`.**"
   ]
  },
  {
   "cell_type": "markdown",
   "metadata": {},
   "source": [
    "### Q19. Which choice is the most syntactically correct example of the conditional branching?\n",
    "\n",
    "<span class='label label-default'>Solution</span>\n",
    "\n",
    "- [ ] ```python\n",
    "num_people = 5\n",
    "if num_people > 10:\n",
    "    print(\"There is a lot of people in the pool.\")\n",
    "elif num_people > 4:\n",
    "    print(\"There are some people in the pool.\")\n",
    "elif num_people > 0:\n",
    "    print(\"There are a few people in the pool.\")\n",
    "else:\n",
    "    print(\"There is no one in the pool.\")\n",
    "```\n",
    "\n",
    "- [ ] ```python\n",
    "num_people = 5\n",
    "if num_people > 10:\n",
    "    print(\"There is a lot of people in the pool.\")\n",
    "if num_people > 4:\n",
    "    print(\"There are some people in the pool.\")\n",
    "if num_people > 0:\n",
    "    print(\"There are a few people in the pool.\")\n",
    "else:\n",
    "    print(\"There is no one in the pool.\")\n",
    "    ```\n",
    "\n",
    "- [x] ```python\n",
    "num_people = 5\n",
    "if num_people > 10:\n",
    "    print(\"There is a lot of people in the pool.\")\n",
    "elif num_people > 4:\n",
    "    print(\"There are some people in the pool.\")\n",
    "elif num_people > 0:\n",
    "    print(\"There are a few people in the pool.\")\n",
    "else:\n",
    "    print(\"There is no one in the pool.\")\n",
    "```\n",
    "\n",
    "- [ ] ```python\n",
    "if num_people > 10;\n",
    "    print(\"There is a lot of people in the pool.\")\n",
    "if num_people > 4:\n",
    "    print(\"There are some people in the pool.\")\n",
    "if num_people > 0:\n",
    "    print(\"There are a few people in the pool.\")\n",
    "else:\n",
    "    print(\"There is no one in the pool.\")\n",
    "    ```"
   ]
  },
  {
   "cell_type": "markdown",
   "metadata": {},
   "source": [
    "### Q20. Which statement does NOT describe the object-oriented programming concept of encapsulation?\n",
    "\n",
    "<span class='label label-default'>Solution</span>\n",
    "\n",
    "- [ ] It protects the data from outside interference.\n",
    "- [ ] A parent class is encapsulated and no data from the parent class passes on to the child class.\n",
    "- [ ] It keeps data and the methods that can manipulate that data in one place.\n",
    "- [x] It only allows the data to be changed by methods."
   ]
  },
  {
   "cell_type": "markdown",
   "metadata": {},
   "source": [
    "### Q21. What is the purpose of an if/else statement?\n",
    "\n",
    "<span class='label label-default'>Solution</span>\n",
    "\n",
    "- [ ] An if/else statement tells the computer which chunk of code to run if the instructions you coded are incorrect\n",
    "- [ ] An if/else statement runs one chunk of code if all the imports were successful, and another chunk of code if the imports were not successful\n",
    "- [x] An if/else statement executes one chunk of code if a condition it true, but a different chunk of code if the condition is false\n",
    "- [ ] An if/else statement tells the computer which chunk of code to run if the is enough memory to handle it. and which chunk of code to run if there is not enough memory to handle it"
   ]
  },
  {
   "cell_type": "markdown",
   "metadata": {},
   "source": [
    "### Q22. What built-in Python data type is commonly used to represent a queue?\n",
    "\n",
    "<span class='label label-default'>Solution</span>\n",
    "\n",
    "- [ ] **`dictionary`**\n",
    "- [ ] **`set`**\n",
    "- [ ] **`None`**. You can only build a stack from scratch.\n",
    "- [x] **`list`**"
   ]
  },
  {
   "cell_type": "markdown",
   "metadata": {},
   "source": [
    "### Q23. What is the correct syntax for instantiating a new object of the type Game?\n",
    "\n",
    "<span class='label label-default'>Solution</span>\n",
    "\n",
    "- [ ] **`my_game = class.Game()`**\n",
    "- [ ] **`my_game = class(Game)`**\n",
    "- [x] **`my_game = Game()`**\n",
    "- [ ] **`my_game = Game.create()`**"
   ]
  },
  {
   "cell_type": "markdown",
   "metadata": {},
   "source": [
    "### Q24. What does the built-in `map()` function do?\n",
    "\n",
    "<span class='label label-default'>Solution</span>\n",
    "\n",
    "- [ ] It creates a path from multiple values in an iterable to a single value.\n",
    "- [x] It applies a function to each item in an iterable and returns the value of that function.\n",
    "- [ ] It converts a complex value type into simpler value types.\n",
    "- [ ] It creates a mapping between two different elements of different iterables."
   ]
  },
  {
   "cell_type": "markdown",
   "metadata": {},
   "source": [
    "### Q25. If you don't explicitly return a value from a function, what happens?\n",
    "\n",
    "<span class='label label-default'>Solution</span>\n",
    "\n",
    "- [ ] The function will return a RuntimeError if you don't return a value.\n",
    "- [x] If the return keyword is absent, the function will return **`None`**.\n",
    "- [ ] If the return keyword is absent, the function will return **`True`**.\n",
    "- [ ] The function will enter an infinite loop because it won't know when to stop executing its code."
   ]
  },
  {
   "cell_type": "markdown",
   "metadata": {},
   "source": [
    "### Q26. What is the purpose of the `pass` statement in Python?\n",
    "\n",
    "<span class='label label-default'>Solution</span>\n",
    "\n",
    "- [ ] It is used to skip the **`yield`** statement of a generator and return a value of None.\n",
    "- [x] It is a null operation used mainly as a placeholder in functions, classes, etc.\n",
    "- [ ] It is used to pass control from one statement block to another.\n",
    "- [ ] It is used to skip the rest of a **`while`** or **`for`** loop and return to the start of the loop."
   ]
  },
  {
   "cell_type": "markdown",
   "metadata": {},
   "source": [
    "### Q27. What is the term used to describe items that may be passed into a function?\n",
    "\n",
    "<span class='label label-default'>Solution</span>\n",
    "\n",
    "- [x] arguments\n",
    "- [ ] paradigms\n",
    "- [ ] attributes\n",
    "- [ ] decorators"
   ]
  },
  {
   "cell_type": "markdown",
   "metadata": {},
   "source": [
    "### Q28. Which collection type is used to associate values with unique keys?\n",
    "\n",
    "<span class='label label-default'>Solution</span>\n",
    "\n",
    "- [ ] **`slot`**\n",
    "- [x] **`dictionary`**\n",
    "- [ ] **`queue`**\n",
    "- [ ] **`sorted list`**"
   ]
  },
  {
   "cell_type": "markdown",
   "metadata": {},
   "source": [
    "### Q29. When does a for loop stop iterating?\n",
    "\n",
    "<span class='label label-default'>Solution</span>\n",
    "\n",
    "- [ ] when it encounters an infinite loop\n",
    "- [ ] when it encounters an if/else statement that contains a break keyword\n",
    "- [x] when it has assessed each item in the iterable it is working on or a break keyword is encountered\n",
    "- [ ] when the runtime for the loop exceeds $O(n^2)$"
   ]
  },
  {
   "cell_type": "markdown",
   "metadata": {},
   "source": [
    "### Q30. Assuming the node is in a singly linked list, what is the runtime complexity of searching for a specific node within a singly linked list?\n",
    "\n",
    "<span class='label label-default'>Solution</span>\n",
    "\n",
    "- [x] The runtime is $O(n)$ because in the worst case, the node you are searching for is the last node, and every node in the linked list must be visited.\n",
    "- [ ] The runtime is $O(nk)$, with n representing the number of nodes and k representing the amount of time it takes to access each node in memory.\n",
    "- [ ] The runtime cannot be determined unless you know how many nodes are in the singly linked list.\n",
    "- [ ] The runtime is $O(1)$ because you can index directly to a node in a singly linked list."
   ]
  },
  {
   "cell_type": "markdown",
   "metadata": {},
   "source": [
    "### Q31. Given the following three list, how would you create a new list that matches the desired output printed below?\n",
    "\n",
    "<span class='label label-default'>Solution</span>\n",
    "\n",
    "```python\n",
    "fruits = ['Apples', 'Oranges', 'Bananas']\n",
    "quantities = [5, 3, 4]\n",
    "prices = [1.50, 2.25, 0.89]\n",
    "\n",
    "#Desired output\n",
    "[('Apples', 5, 1.50),\n",
    "('Oranges', 3, 2.25),\n",
    "('Bananas', 4, 0.89)]\n",
    "```\n",
    "\n",
    "- [ ] ```python\n",
    "output = []\n",
    "fruit_tuple_0 = (first[0], quantities[0], price[0])\n",
    "output.append(fruit_tuple)\n",
    "fruit_tuple_1 = (first[1], quantities[1], price[1])\n",
    "output.append(fruit_tuple)\n",
    "fruit_tuple_2 = (first[2], quantities[2], price[2])\n",
    "output.append(fruit_tuple)\n",
    "return output\n",
    "    ```\n",
    "\n",
    "- [x] ```python\n",
    "i = 0\n",
    "output = []\n",
    "for fruit in fruits:\n",
    "    temp_qty = quantities[i]\n",
    "    temp_price = prices[i]\n",
    "    output.append((fruit, temp_qty, temp_price))\n",
    "    i += 1\n",
    "return output\n",
    "    ```\n",
    "\n",
    "- [ ] ```python\n",
    "groceries = zip(fruits, quantities, prices)\n",
    "return groceries\n",
    "\n",
    "    [\n",
    "    ('Apples', 5, 1.50),\n",
    "    ('Oranges', 3, 2.25),\n",
    "    ('Bananas', 4, 0.89)\n",
    "    ]\n",
    "  ```\n",
    "\n",
    "- [ ] ```python\n",
    "i = 0\n",
    "output = []\n",
    "for fruit in fruits:\n",
    "    for qty in quantities:\n",
    "        for price in prices:\n",
    "            output.append((fruit, qty, price))\n",
    "    i += 1\n",
    "return output\n",
    "   ```"
   ]
  },
  {
   "cell_type": "markdown",
   "metadata": {},
   "source": [
    "### Q32. What happens when you use the built-in function `all()` on a list?\n",
    "\n",
    "<span class='label label-default'>Solution</span>\n",
    "\n",
    "- [ ] The **`all()`** function returns a Boolean value that answers the question \"Are all the items in this list the same?\"\n",
    "- [ ] The **`all()`** function returns True if all the items in the list can be converted to strings. Otherwise, it returns False.\n",
    "- [ ] The **`all()`** function will return all the values in the list.\n",
    "- [x] The **`all()`** function returns True if all items in the list evaluate to True. Otherwise, it returns False."
   ]
  },
  {
   "cell_type": "markdown",
   "metadata": {},
   "source": [
    "### Q33. What is the correct syntax for calling an instance method on a class named Game?\n",
    "\n",
    "**(Answer format may vary. Game and roll (or dice_roll) should each be called with no parameters.)**\n",
    "\n",
    "<span class='label label-default'>Solution</span>\n",
    "\n",
    "- [x] ```python\n",
    ">>> dice = Game()\n",
    ">>> dice.roll()\n",
    "```\n",
    "\n",
    "- [ ] ```python\n",
    ">>> dice = Game(self)\n",
    ">>> dice.roll(self)\n",
    "```\n",
    "\n",
    "- [ ] ```python\n",
    ">>> dice = Game()\n",
    ">>> dice.roll(self)\n",
    "```\n",
    "\n",
    "- [ ] ```python\n",
    ">>> dice = Game(self)\n",
    ">>> dice.roll()\n",
    "```"
   ]
  },
  {
   "cell_type": "markdown",
   "metadata": {},
   "source": [
    "### Q34. What is the algorithmic paradigm of quick sort?\n",
    "\n",
    "<span class='label label-default'>Solution</span>\n",
    "\n",
    "- [ ] backtracking\n",
    "- [ ] dynamic programming\n",
    "- [ ] decrease and conquer\n",
    "- [x] divide and conquer"
   ]
  },
  {
   "cell_type": "markdown",
   "metadata": {},
   "source": [
    "### Q35. What is runtime complexity of the list's built-in `append()` method?\n",
    "\n",
    "<span class='label label-default'>Solution</span>\n",
    "\n",
    "- [x] $O(1)$, also called constant time\n",
    "- [ ] $O(log n)$, also called logarithmic time\n",
    "- [ ] $O(n^2)$, also called quadratic time\n",
    "- [ ] $O(n)$, also called linear time"
   ]
  },
  {
   "cell_type": "markdown",
   "metadata": {},
   "source": [
    "### Q36. What is key difference between a set and a list?\n",
    "\n",
    "<span class='label label-default'>Solution</span>\n",
    "\n",
    "- [ ] A set is an ordered collection unique items. A list is an unordered collection of non-unique items.\n",
    "- [ ] Elements can be retrieved from a list but they cannot be retrieved from a set.\n",
    "- [ ] A set is an ordered collection of non-unique items. A list is an unordered collection of unique items.\n",
    "- [x] A set is an unordered collection unique items. A list is an ordered collection of non-unique items."
   ]
  },
  {
   "cell_type": "markdown",
   "metadata": {},
   "source": [
    "### Q37. What is the definition of abstraction as applied to object-oriented Python?\n",
    "\n",
    "<span class='label label-default'>Solution</span>\n",
    "\n",
    "- [ ] Abstraction means that a different style of code can be used, since many details are already known to the program behind the scenes.\n",
    "- [x] Abstraction means the implementation is hidden from the user, and only the relevant data or information is shown.\n",
    "- [ ] Abstraction means that the data and the functionality of a class are combined into one entity.\n",
    "- [ ] Abstraction means that a class can inherit from more than one parent class."
   ]
  },
  {
   "cell_type": "markdown",
   "metadata": {},
   "source": [
    "### Q38. What does this function print?\n",
    "\n",
    "<span class='label label-default'>Solution</span>\n",
    "\n",
    "```python\n",
    "def print_alpha_nums(abc_list, num_list):\n",
    "    for char in abc_list:\n",
    "        for num in num_list:\n",
    "            print(char, num)\n",
    "    return\n",
    "\n",
    "print_alpha_nums(['a', 'b', 'c'], [1, 2, 3])\n",
    "```\n",
    "\n",
    "- [x] ```python\n",
    "a 1\n",
    "a 2\n",
    "a 3\n",
    "b 1\n",
    "b 2\n",
    "b 3\n",
    "c 1\n",
    "c 2\n",
    "c 3\n",
    "```\n",
    "\n",
    "- [ ] ```python\n",
    "['a', 'b', 'c'], [1, 2, 3]\n",
    "```\n",
    "\n",
    "- [ ] ```python\n",
    "aaa\n",
    "bbb\n",
    "ccc\n",
    "111\n",
    "222\n",
    "333\n",
    "```\n",
    "\n",
    "- [ ] ```python\n",
    "a 1 2 3\n",
    "b 1 2 3\n",
    "c 1 2 3\n",
    "```"
   ]
  },
  {
   "cell_type": "markdown",
   "metadata": {},
   "source": [
    "### Q39. What is the correct syntax for calling an instance method on a class named `Game`?\n",
    "\n",
    "<span class='label label-default'>Solution</span>\n",
    "\n",
    "- [x] ```python\n",
    "my_game = Game()\n",
    "my_game.roll_dice()\n",
    "```\n",
    "\n",
    "- [ ] ```python\n",
    "my_game = Game()\n",
    "self.my_game.roll_dice()\n",
    "```\n",
    "\n",
    "- [ ] ```python\n",
    "my_game = Game(self)\n",
    "self.my_game.roll_dice()\n",
    "```\n",
    "\n",
    "- [ ] ```python\n",
    "my_game = Game(self)\n",
    "my_game.roll_dice(self)\n",
    "```"
   ]
  },
  {
   "cell_type": "markdown",
   "metadata": {},
   "source": [
    "### Q40. Correct representation of doctest for function in Python\n",
    "\n",
    "<span class='label label-default'>Solution</span>\n",
    "\n",
    "- [ ] ```python\n",
    "def sum(a, b):\n",
    "    # a = 1\n",
    "    # b = 2\n",
    "    # sum(a, b) = 3\n",
    "\n",
    "    return a + b\n",
    "```\n",
    "\n",
    "- [ ] ```python\n",
    "def sum(a, b):\n",
    "    \"\"\"\n",
    "    a = 1\n",
    "    b = 2\n",
    "    sum(a, b) = 3\n",
    "    \"\"\"\n",
    "\n",
    "    return a + b\n",
    "```\n",
    "\n",
    "- [x] ```python\n",
    "def sum(a, b):\n",
    "    \"\"\"\n",
    "    >>> a = 1\n",
    "    >>> b = 2\n",
    "    >>> sum(a, b)\n",
    "    3\n",
    "    \"\"\"\n",
    "\n",
    "    return a + b\n",
    "```\n",
    "\n",
    "- [ ] ```python\n",
    "def sum(a, b):\n",
    "    '''\n",
    "    a = 1\n",
    "    b = 2\n",
    "    sum(a, b) = 3\n",
    "    '''\n",
    "    return a + b\n",
    "```"
   ]
  },
  {
   "cell_type": "markdown",
   "metadata": {},
   "source": [
    "### Q41. Suppose a Game class inherits from two parent classes: BoardGame and LogicGame. Which statement is true about the methods of an object instantiated from the Game class?\n",
    "\n",
    "<span class='label label-default'>Solution</span>\n",
    "\n",
    "- [ ] When instantiating an object, the object doesn't inherit any of the parent class's methods.\n",
    "- [ ] When instantiating an object, the object will inherit the methods of whichever parent class has more methods.\n",
    "- [ ] When instantiating an object, the programmer must specify which parent class to inherit methods from.\n",
    "- [x] An instance of the Game class will inherit whatever methods the BoardGame and LogicGame classes have."
   ]
  },
  {
   "cell_type": "markdown",
   "metadata": {},
   "source": [
    "### Q42. What does calling namedtuple on a collection type return?\n",
    "\n",
    "<span class='label label-default'>Solution</span>\n",
    "\n",
    "- [ ] a generic object class with iterable parameter fields\n",
    "- [ ] a generic object class with non-iterable named fields\n",
    "- [ ] a tuple subclass with non-iterable parameter fields\n",
    "- [x] a tuple subclass with iterable named fields"
   ]
  },
  {
   "cell_type": "markdown",
   "metadata": {},
   "source": [
    "### Q43. What symbol(s) do you use to assess equality between two elements?\n",
    "\n",
    "<span class='label label-default'>Solution</span>\n",
    "\n",
    "- [ ] **`&&`**\n",
    "- [ ] **`=`**\n",
    "- [x] **`==`**\n",
    "- [ ] **`||`**"
   ]
  },
  {
   "cell_type": "markdown",
   "metadata": {},
   "source": [
    "### Q44. Review the code below. What is the correct syntax for changing the price to 1.5?\n",
    "\n",
    "<span class='label label-default'>Solution</span>\n",
    "\n",
    "```python\n",
    "    fruit_info = {\n",
    "    'fruit': 'apple',\n",
    "    'count': 2,\n",
    "    'price': 3.5\n",
    "    }\n",
    "```\n",
    "\n",
    "- [x] **`fruit_info ['price'] = 1.5`**\n",
    "- [ ] **`my_list [3.5] = 1.5`**\n",
    "- [ ] **`1.5 = fruit_info ['price]`**\n",
    "- [ ] **`my_list['price'] == 1.5`**"
   ]
  },
  {
   "cell_type": "markdown",
   "metadata": {},
   "source": [
    "### Q45. What value would be returned by this check for equality?\n",
    "\n",
    "<span class='label label-default'>Solution</span>\n",
    "\n",
    "**`5 != 6`**\n",
    "\n",
    "- [ ] **`yes`**\n",
    "- [ ] **`False`**\n",
    "- [x] **`True`**\n",
    "- [ ] **`None`**"
   ]
  },
  {
   "cell_type": "markdown",
   "metadata": {},
   "source": [
    "### Q46. What does a class's **init**() method do?\n",
    "\n",
    "<span class='label label-default'>Solution</span>\n",
    "\n",
    "- [ ] The **`__init__`** method makes classes aware of each other if more than one class is defined in a single code file.\n",
    "- [ ] The **`__init__`** method is included to preserve backwards compatibility from Python 3 to Python 2, but no longer needs to be used in Python 3.\n",
    "- [x] The **`__init__`** method is a constructor method that is called automatically whenever a new object is created from a class. It sets the initial state of a new object.`\n",
    "- [ ] The **`__init__`** method initializes any imports you may have included at the top of your file."
   ]
  },
  {
   "cell_type": "markdown",
   "metadata": {},
   "source": [
    "### Q47. What is meant by the phrase \"space complexity\"?\n",
    "\n",
    "<span class='label label-default'>Solution</span>\n",
    "\n",
    "- [ ] **`How many microprocessors it would take to run your code in less than one second`**\n",
    "- [ ] **`How many lines of code are in your code file`**\n",
    "- [x] **`The amount of space taken up in memory as a function of the input size`**\n",
    "- [ ] **`How many copies of the code file could fit in 1 GB of memory`**"
   ]
  },
  {
   "cell_type": "markdown",
   "metadata": {},
   "source": [
    "### Q48. What is the correct syntax for creating a variable that is bound to a dictionary?\n",
    "\n",
    "<span class='label label-default'>Solution</span>\n",
    "\n",
    "- [x] **`fruit_info = {'fruit': 'apple', 'count': 2, 'price': 3.5}`**\n",
    "- [ ] **`fruit_info =('fruit': 'apple', 'count': 2,'price': 3.5 ).dict()`**\n",
    "- [ ] **`fruit_info = ['fruit': 'apple', 'count': 2,'price': 3.5 ].dict()`**\n",
    "- [ ] **`fruit_info = to_dict('fruit': 'apple', 'count': 2, 'price': 3.5)`**"
   ]
  },
  {
   "cell_type": "markdown",
   "metadata": {},
   "source": [
    "### Q49. What is the proper way to write a list comprehension that represents all the keys in this dictionary?\n",
    "\n",
    "<span class='label label-default'>Solution</span>\n",
    "\n",
    "**`fruits = {'Apples': 5, 'Oranges': 3, 'Bananas': 4}`**\n",
    "\n",
    "- [ ] **`fruit_names = [x in fruits.keys() for x]`**\n",
    "- [ ] **`fruit_names = for x in fruits.keys() *`**\n",
    "- [x] **`fruit_names = [x for x in fruits.keys()]`**\n",
    "- [ ] **`fruit_names = x for x in fruits.keys()`**"
   ]
  },
  {
   "cell_type": "markdown",
   "metadata": {},
   "source": [
    "### Q50. What is the algorithmic paradigm of quick sort?\n",
    "\n",
    "<span class='label label-default'>Solution</span>\n",
    "\n",
    "- [ ] **`backtracking`**\n",
    "- [x] **`divide and conquer`**\n",
    "- [ ] **`dynamic programming`**\n",
    "- [ ] **`decrease and conquer`**"
   ]
  },
  {
   "cell_type": "markdown",
   "metadata": {},
   "source": [
    "### Q51. What is the purpose of the `self` keyword when defining or calling methods on an instance of an object?\n",
    "\n",
    "<span class='label label-default'>Solution</span>\n",
    "\n",
    "- [ ] **`self`** refers to the class that was inherited from to create the object using **`self`**.\n",
    "- [ ] There is no real purpose for the **`self`** method. It's just legacy computer science jargon that Python keeps to stay consistent with other programming languages.\n",
    "- [ ] **`self`** means that no other arguments are required to be passed into the method.\n",
    "- [x] **`self`** refers to the instance whose method was called."
   ]
  },
  {
   "cell_type": "markdown",
   "metadata": {},
   "source": [
    "### Q52. What statement about a class methods is true?\n",
    "\n",
    "<span class='label label-default'>Solution</span>\n",
    "\n",
    "- [ ] A class method is a regular function that belongs to a class, but it must return None.\n",
    "- [x] A class method can modify the state of the class, but they can't directly modify the state of an instance that inherits from that class.\n",
    "- [ ] A class method is similar to a regular function, but a class method doesn't take any arguments.\n",
    "- [ ] A class method hold all of the data for a particular class."
   ]
  },
  {
   "cell_type": "markdown",
   "metadata": {},
   "source": [
    "### Q53. What does it mean for a function to have linear runtime?\n",
    "\n",
    "<span class='label label-default'>Solution</span>\n",
    "\n",
    "- [ ] You did not use very many advanced computer programming concepts in your code.\n",
    "- [ ] The difficulty level your code is written at is not that high.\n",
    "- [ ] It will take your program less than half a second to run.\n",
    "- [x] The amount of time it takes the function to complete grows linearly as the input size increases."
   ]
  },
  {
   "cell_type": "markdown",
   "metadata": {},
   "source": [
    "### Q54. What is the proper way to define a function?\n",
    "\n",
    "<span class='label label-default'>Solution</span>\n",
    "\n",
    "- [ ] **`def getMaxNum(list_of_nums): # body of function goes here`**\n",
    "- [ ] **`func get_max_num(list_of_nums): # body of function goes here`**\n",
    "- [ ] **`func getMaxNum(list_of_nums): # body of function goes here`**\n",
    "- [x] **`def get_max_num(list_of_nums): # body of function goes here`**\n",
    "     \n",
    "     \n",
    "**[Explanation](https://www.python.org/dev/peps/pep-0008/)**"
   ]
  },
  {
   "cell_type": "markdown",
   "metadata": {},
   "source": [
    "### Q55. According to the PEP 8 coding style guidelines, how should constant values be named in Python?\n",
    "\n",
    "<span class='label label-default'>Solution</span>\n",
    "\n",
    "- [ ] in camel case without using underscores to separate words -- e.g. **`maxValue = 255`**\n",
    "- [ ] in lowercase with underscores to separate words -- e.g. **`max_value = 255`**\n",
    "- [x] in all caps with underscores separating words -- e.g. **`MAX_VALUE = 255`**\n",
    "- [ ] in mixed case without using underscores to separate words -- e.g. **`MaxValue = 255`**"
   ]
  },
  {
   "cell_type": "markdown",
   "metadata": {},
   "source": [
    "### Q56. Describe the functionality of a deque.\n",
    "\n",
    "<span class='label label-default'>Solution</span>\n",
    "\n",
    "- [ ] A deque adds items to one side and remove items from the other side.\n",
    "- [ ] A deque adds items to either or both sides, but only removes items from the top.\n",
    "- [x] A deque adds items at either or both ends, and remove items at either or both ends.\n",
    "- [ ] A deque adds items only to the top, but remove from either or both sides."
   ]
  },
  {
   "cell_type": "markdown",
   "metadata": {},
   "source": [
    "### Q57. What is the correct syntax for creating a variable that is bound to a set?\n",
    "\n",
    "<span class='label label-default'>Solution</span>\n",
    "\n",
    "- [x] **`myset = {0, 'apple', 3.5}`**\n",
    "- [ ] **`myset = to_set(0, 'apple', 3.5)`**\n",
    "- [ ] **`myset = (0, 'apple', 3.5).to_set()`**\n",
    "- [ ] **`myset = (0, 'apple', 3.5).set()`**"
   ]
  },
  {
   "cell_type": "markdown",
   "metadata": {},
   "source": [
    "### Q58. What is the correct syntax for defining an `__init__()` method that takes no parameters?\n",
    "\n",
    "<span class='label label-default'>Solution</span>\n",
    "\n",
    "- [ ] ```python\n",
    "class __init__(self):\n",
    "    pass\n",
    "```\n",
    "\n",
    "- [ ] ```python\n",
    "def __init__():\n",
    "    pass\n",
    "```\n",
    "\n",
    "- [ ] ```python\n",
    "class __init__():\n",
    "    pass\n",
    "```\n",
    "\n",
    "- [x] ```python\n",
    "def __init__(self):\n",
    "    pass\n",
    "```"
   ]
  },
  {
   "cell_type": "markdown",
   "metadata": {},
   "source": [
    "### Q59. Which statement about the class methods is true?\n",
    "\n",
    "<span class='label label-default'>Solution</span>\n",
    "\n",
    "- [ ] A class method holds all of the data for a particular class.\n",
    "- [x] A class method can modify the state of the class, but it cannot directly modify the state of an instance that inherits from that class.\n",
    "- [ ] A class method is a regular function that belongs to a class, but it must return `None`\n",
    "- [ ] A class method is similar to a regular function, but a class method does not take any arguments."
   ]
  },
  {
   "cell_type": "markdown",
   "metadata": {},
   "source": [
    "### Q60. Which of the following is TRUE About how numeric data would be organised in a binary Search tree?\n",
    "\n",
    "<span class='label label-default'>Solution</span>\n",
    "\n",
    "- [x] For any given Node in a binary Search Tree, the child node to the left is less than the value of the given node and the child node to its right is greater than the given node. (Not Sure)\n",
    "- [ ] Binary Search Tree cannot be used to organize and search through numeric data, given the complication that arise with very deep trees.\n",
    "- [ ] The top node of the binary search tree would be an arbitrary number. All the nodes to the left of the top node need to be less than the top node's number, but they don't need to ordered in any particular way.\n",
    "- [ ] The smallest numeric value would go in the top most node. The next highest number would go in its left child node, the the next highest number after that would go in its right child node. This pattern would continue until all numeric values were in their own node."
   ]
  },
  {
   "cell_type": "markdown",
   "metadata": {},
   "source": [
    "### Q61. Why would you use a decorator?\n",
    "\n",
    "<span class='label label-default'>Solution</span>\n",
    "\n",
    "- [ ] A decorator is similar to a class and should be used if you are doing functional programming instead of object oriented programming.\n",
    "- [ ] A decorator is a visual indicator to someone reading your code that a portion of your code is critical and should not be changed.\n",
    "- [x] You use the decorator to alter the functionality of a function without the without having to modify the functions code.\n",
    "- [ ] An import statement is preceded by a decorator, python knows to import the most recent version of whatever package or library is being imported."
   ]
  },
  {
   "cell_type": "markdown",
   "metadata": {},
   "source": [
    "### Q62. When would you use a for loop ?\n",
    "\n",
    "<span class='label label-default'>Solution</span>\n",
    "\n",
    "- [ ] Only in some situations, as loops are used ony for certain type of programming.\n",
    "- [x] When you need to check every element in an iterable of known length.\n",
    "- [ ] When you want to minimize the use of strings in your code.\n",
    "- [ ] When you want to run code in one file for a function in another file."
   ]
  },
  {
   "cell_type": "markdown",
   "metadata": {},
   "source": [
    "### Q63. What is the most self-descriptive way to define a function that calculates sales tax on a purchase?\n",
    "\n",
    "<span class='label label-default'>Solution</span>\n",
    "\n",
    "- [ ] ```python\n",
    "def tax(my_float):\n",
    "    '''Calculates the sales tax of a purchase. Takes in a float representing the subtotal as an argument and returns a float representing the sales tax.'''\n",
    "    pass\n",
    "```\n",
    "\n",
    "- [ ] ```python\n",
    "def tx(amt):\n",
    "    '''Gets the tax on an amount.'''\n",
    "```\n",
    "\n",
    "- [ ] ```python\n",
    "def sales_tax(amount):\n",
    "    '''Calculates the sales tax of a purchase. Takes in a float representing the subtotal as an argument and returns a float representing the sales tax.'''\n",
    "```\n",
    "\n",
    "- [x] ```python\n",
    "def calculate_sales_tax(subtotal):\n",
    "    pass\n",
    "```"
   ]
  },
  {
   "cell_type": "markdown",
   "metadata": {},
   "source": [
    "### Q64. What would happen if you did not alter the state of the element that an algorithm is operating on recursively?\n",
    "\n",
    "<span class='label label-default'>Solution</span>\n",
    "\n",
    "- [ ] You do not have to alter the state of the element the algorithm is recursing on.\n",
    "- [ ] You would eventually get a KeyError when the recursive portion of the code ran out of items to recurse on.\n",
    "- [x] You would get a RuntimeError: maximum recursion depth exceeded.\n",
    "- [ ] The function using recursion would return None."
   ]
  },
  {
   "cell_type": "markdown",
   "metadata": {},
   "source": [
    "### Q65. What is the runtime complexity of searching for an item in a binary search tree?\n",
    "\n",
    "<span class='label label-default'>Solution</span>\n",
    "\n",
    "- [ ] The runtime for searching in a binary search tree is O(1) because each node acts as a key, similar to a dictionary.\n",
    "- [ ] The runtime for searching in a binary search tree is O(n!) because every node must be compared to every other node.\n",
    "- [x] The runtime for searching in a binary search tree is generally O(h), where h is the height of the tree.\n",
    "- [ ] The runtime for searching in a binary search tree is O(n) because every node in the tree must be visited."
   ]
  },
  {
   "cell_type": "markdown",
   "metadata": {},
   "source": [
    "### Q66. Why would you use `mixin`?\n",
    "\n",
    "<span class='label label-default'>Solution</span>\n",
    "\n",
    "- [ ] You use a **`mixin`** to force a function to accept an argument at runtime even if the argument wasn't included in the function's definition.\n",
    "- [ ] You use a **`mixin`** to allow a decorator to accept keyword arguments.\n",
    "- [ ] You use a **`mixin`** to make sure that a class's attributes and methods don't interfere with global variables and functions.\n",
    "- [x] If you have many classes that all need to have the same functionality, you'd use a **`mixin`** to define that functionality."
   ]
  },
  {
   "cell_type": "markdown",
   "metadata": {},
   "source": [
    "### Q67. What is the runtime complexity of adding an item to a stack and removing an item from a stack?\n",
    "\n",
    "<span class='label label-default'>Solution</span>\n",
    "\n",
    "- [ ] Add items to a stack in O(1) time and remove items from a stack on O(n) time.\n",
    "- [x] Add items to a stack in O(1) time and remove items from a stack in O(1) time.\n",
    "- [ ] Add items to a stack in O(n) time and remove items from a stack on O(1) time.\n",
    "- [ ] Add items to a stack in O(n) time and remove items from a stack on O(n) time."
   ]
  },
  {
   "cell_type": "markdown",
   "metadata": {},
   "source": [
    "### Q68. What does calling namedtuple on a collection type return?\n",
    "\n",
    "<span class='label label-default'>Solution</span>\n",
    "\n",
    "- [x] a tuple subclass with iterable named fields\n",
    "- [ ] a generic object class with non-iterable named fields\n",
    "- [ ] a generic object class with iterable parameter fields\n",
    "- [ ] a tuple subclass with non-iterable parameter fields"
   ]
  },
  {
   "cell_type": "markdown",
   "metadata": {},
   "source": [
    "### Q69. Which statement accurately describes how items are added to and remnoved from a stack?\n",
    "\n",
    "<span class='label label-default'>Solution</span>\n",
    "\n",
    "- [ ] a stacks adds items to one side and removes items from the other side.\n",
    "- [x] a stacks adds items to the top and removes items from the top.\n",
    "- [ ] a stacks adds items to the top and removes items from anywhere in the stack.\n",
    "- [ ] a stacks adds items to either end and removes items from either end."
   ]
  },
  {
   "cell_type": "markdown",
   "metadata": {},
   "source": [
    "### Q70. What is a base case in a recursive function?\n",
    "\n",
    "<span class='label label-default'>Solution</span>\n",
    "\n",
    "- [x] A base case is the condition that allows the algorithm to stop recursing. It is usually a problem that is small enough to solve directly.\n",
    "- [ ] The base case is summary of the overall problem that needs to be solved.\n",
    "- [ ] The base case is passed in as an argument to a function whose body makes use of recursion.\n",
    "- [ ] The base case is similar to a base class, in that it can be inherited by another object."
   ]
  },
  {
   "cell_type": "markdown",
   "metadata": {},
   "source": [
    "### Q71. Why is it considered good practice to open a file from within a Python script by using the `with` keyword?\n",
    "\n",
    "<span class='label label-default'>Solution</span>\n",
    "\n",
    "- [ ] The **`with`** keyword lets you choose which application to open the file in.\n",
    "- [ ] The **`with`** keyword acts like a **`for`** loop, and lets you access each line in the file one by one.\n",
    "- [ ] There is no benefit to using the **`with`** keyword for opening a file in Python.\n",
    "- [x] When you open a file using the **`with`** keyword in Python, Python will make sure the file gets closed, even if an exception or error is thrown."
   ]
  },
  {
   "cell_type": "markdown",
   "metadata": {},
   "source": [
    "### Q72. Why would you use a virtual environment?\n",
    "\n",
    "<span class='label label-default'>Solution</span>\n",
    "\n",
    "- [x] Virtual environments create a \"bubble\" around your project so that any libraries or packages you install within it don't affect your entire machine.\n",
    "- [ ] Teams with remote employees use virtual environments so they can share code, do code reviews, and collaorate remotely.\n",
    "- [ ] Virtual environments were common in Python 2 because they augmented missing features in the language. Virtual environments are not necessary in Python 3 due to advancements in the language.\n",
    "- [ ] Virtual environments are tied to your GitHub or Bitbucket account, allowing you to access any of your repos virtually from any machine."
   ]
  },
  {
   "cell_type": "markdown",
   "metadata": {},
   "source": [
    "### Q73. What is the correct way to run all the doctests in a given file from the command line?\n",
    "\n",
    "<span class='label label-default'>Solution</span>\n",
    "\n",
    "- [ ] python3 -m doctest <filename>\n",
    "- [x] python3 <filename>\n",
    "- [ ] python3 <filename> rundoctests\n",
    "- [ ] python3 doctest"
   ]
  },
  {
   "cell_type": "markdown",
   "metadata": {},
   "source": [
    "### Q74. What is a lambda function ?\n",
    "\n",
    "<span class='label label-default'>Solution</span>\n",
    "\n",
    "- [ ] any function that makes use of scientific or mathematical constants, often represented by Greek letters in academic writing\n",
    "- [ ] a function that get executed when decorators are used\n",
    "- [ ] any function whose definition is contained within five lines of code or fewer\n",
    "- [x] a small, anonymous function that can take any number of arguments but has only expression to evaluate\n",
    "\n",
    "[Reference](https://www.guru99.com/python-lambda-function.html)\n",
    "\n",
    "**Explanation:**\n",
    "\n",
    "The lambda notation is basically an anonymous function that can take any number of arguments with only single expression (i.e, cannot be overloaded). It has been introducted in other programming languages, such as C++ and Java. The lambda notation allows programmers to \"bypass\" function declaration."
   ]
  },
  {
   "cell_type": "markdown",
   "metadata": {},
   "source": [
    "### Q75. What is the primary difference between lists and tuples?\n",
    "\n",
    "<span class='label label-default'>Solution</span>\n",
    "\n",
    "- [ ] You can access a specifc element in a list by indexing to its position, but you cannot access a specific element in a tuple unless you iterate through the tuple\n",
    "- [x] Lists are mutable, meaning you can change the data that is inside them at any time. Tuples are immutable, meaning you cannot change the data that is inside them once you have created the tuple.\n",
    "- [ ] Lists are immutable, meaning you cannot change the data that is inside them once you have created the list. Tuples are mutable, meaning you can change the data that is inside them at any time.\n",
    "- [ ] Lists can hold several data types inside them at once, but tuples can only hold the same data type if multiple elements are present."
   ]
  },
  {
   "cell_type": "markdown",
   "metadata": {},
   "source": [
    "### Q76. Which statement about static method is true?\n",
    "\n",
    "<span class='label label-default'>Solution</span>\n",
    "\n",
    "- [ ] Static methods can be bound to either a class or an instance of a class.\n",
    "- [ ] Static methods can access and modify the state of a class or an instance of a class.\n",
    "- [x] Static methods serve mostly as utility or helper methods, since they cannot access or modify a class's state.\n",
    "- [ ] Static methods are called static because they always return None."
   ]
  },
  {
   "cell_type": "markdown",
   "metadata": {},
   "source": [
    "### Q77. What does a generator return?\n",
    "\n",
    "<span class='label label-default'>Solution</span>\n",
    "\n",
    "- [ ] None\n",
    "- [ ] An iterable object\n",
    "- [ ] A linked list data structure from a non-empty list\n",
    "- [ ] All the keys of the given dictionary"
   ]
  },
  {
   "cell_type": "markdown",
   "metadata": {},
   "source": [
    "### Q78. What is the difference between class attributes and instance attributes?\n",
    "\n",
    "<span class='label label-default'>Solution</span>\n",
    "\n",
    "- [ ] Instance attributes can be changed, but class attributes cannot be changed\n",
    "- [ ] Class attributes are shared by all instances of the class. Instance attributes may be unique to just that instance\n",
    "- [ ] There is no difference between class attributes and instance attributes\n",
    "- [ ] Class attributes belong just to the class, not to instance of that class. Instance attributes are shared among all instances of a class"
   ]
  },
  {
   "cell_type": "markdown",
   "metadata": {},
   "source": [
    "### Q79. What is the correct syntax of creating an instance method?\n",
    "\n",
    "<span class='label label-default'>Solution</span>\n",
    "\n",
    "- [ ] ```python\n",
    "def get_next_card():\n",
    "  # method body goes here\n",
    "```\n",
    "\n",
    "- [x] ```python\n",
    "def get_next_card(self):\n",
    "  # method body goes here\n",
    "```\n",
    "\n",
    "- [ ] ```python\n",
    "def self.get_next_card():\n",
    "  # method body goes here\n",
    "```\n",
    "\n",
    "- [ ] ```python\n",
    "def self.get_next_card(self):\n",
    "  # method body goes here\n",
    "```"
   ]
  },
  {
   "cell_type": "markdown",
   "metadata": {},
   "source": [
    "### Q80. What is a key difference between a set and a list?\n",
    "\n",
    "<span class='label label-default'>Solution</span>\n",
    "\n",
    "- [ ] A set is an ordered collection of non-unique items. A list is an unordered collection of unique items.\n",
    "- [ ] A set is an ordered collection of unique items. A list is an unordered collection of non-unique items.\n",
    "- [ ] Elements can be retrieved from a list but they cannot be retrieved from a set.\n",
    "- [x] A set is an unordered collection of unique items. A list is an ordered collection of non-unique items."
   ]
  },
  {
   "cell_type": "markdown",
   "metadata": {},
   "source": []
  }
 ],
 "metadata": {
  "hide_input": false,
  "kernelspec": {
   "display_name": "Python 3",
   "language": "python",
   "name": "python3"
  },
  "language_info": {
   "codemirror_mode": {
    "name": "ipython",
    "version": 3
   },
   "file_extension": ".py",
   "mimetype": "text/x-python",
   "name": "python",
   "nbconvert_exporter": "python",
   "pygments_lexer": "ipython3",
   "version": "3.8.8"
  },
  "toc": {
   "base_numbering": 1,
   "nav_menu": {},
   "number_sections": true,
   "sideBar": true,
   "skip_h1_title": false,
   "title_cell": "Table of Contents",
   "title_sidebar": "Contents",
   "toc_cell": false,
   "toc_position": {},
   "toc_section_display": true,
   "toc_window_display": false
  },
  "varInspector": {
   "cols": {
    "lenName": 16,
    "lenType": 16,
    "lenVar": 40
   },
   "kernels_config": {
    "python": {
     "delete_cmd_postfix": "",
     "delete_cmd_prefix": "del ",
     "library": "var_list.py",
     "varRefreshCmd": "print(var_dic_list())"
    },
    "r": {
     "delete_cmd_postfix": ") ",
     "delete_cmd_prefix": "rm(",
     "library": "var_list.r",
     "varRefreshCmd": "cat(var_dic_list()) "
    }
   },
   "types_to_exclude": [
    "module",
    "function",
    "builtin_function_or_method",
    "instance",
    "_Feature"
   ],
   "window_display": false
  }
 },
 "nbformat": 4,
 "nbformat_minor": 2
}
