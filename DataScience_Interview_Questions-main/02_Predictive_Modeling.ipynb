{
 "cells": [
  {
   "cell_type": "markdown",
   "metadata": {},
   "source": [
    "<small><small><i>\n",
    "All the IPython Notebooks in **Data Science Interview Questions** lecture series by **[Dr. Milaan Parmar](https://www.linkedin.com/in/milaanparmar/)** are available @ **[GitHub](https://github.com/milaan9/DataScience_Interview_Questions)**\n",
    "</i></small></small>"
   ]
  },
  {
   "cell_type": "markdown",
   "metadata": {},
   "source": [
    "# Predictive Modeling ➞ <span class='label label-default'>19 Questions</span>"
   ]
  },
  {
   "cell_type": "markdown",
   "metadata": {},
   "source": [
    "### 1. (Given a Dataset) Analyze this dataset and give me a model that can predict this response variable."
   ]
  },
  {
   "cell_type": "markdown",
   "metadata": {
    "ExecuteTime": {
     "end_time": "2021-09-21T13:31:28.708336Z",
     "start_time": "2021-09-21T13:31:28.699521Z"
    }
   },
   "source": [
    "<span class='label label-default'>Solution</span>\n",
    "\n",
    "- Problem Determination ➞ Data Cleaning ➞ Feature Engineering ➞ Modeling\n",
    "\n",
    "- Benchmark Models\n",
    "  - Linear Regression (Ridge or Lasso) for regression\n",
    "  - Logistic Regression for Classification\n",
    "  \n",
    "- Advanced Models\n",
    "  - Random Forest, Boosting Trees, and so on\n",
    "    - Scikit-Learn, XGBoost, LightGBM, CatBoost\n",
    "    \n",
    "- Determine if the problem is classification or regression.\n",
    "\n",
    "- Plot and visualize the data.\n",
    "\n",
    "- Start by fitting a simple model (multivariate regression, logistic regression), do some feature engineering accordingly, and then try some complicated models. Always split the dataset into train, validation, test dataset and use cross validation to check their performance.\n",
    "\n",
    "- Favor simple models that run quickly and you can easily explain.\n",
    "\n",
    "- Mention cross validation as a means to evaluate the model."
   ]
  },
  {
   "cell_type": "markdown",
   "metadata": {},
   "source": [
    "### 2. What could be some issues if the distribution of the test data is significantly different than the distribution of the training data?"
   ]
  },
  {
   "cell_type": "markdown",
   "metadata": {},
   "source": [
    "<span class='label label-default'>Solution</span>\n",
    "\n",
    "- The model that has high training accuracy might have low test accuracy. Without further knowledge, it is hard to know which dataset represents the population data and thus the generalizability of the algorithm is hard to measure. This should be mitigated by repeated splitting of train vs. test dataset (as in cross validation).\n",
    "- When there is a change in data distribution, this is called the dataset shift. If the train and test data has a different distribution, then the classifier would likely overfit to the train data.\n",
    "- This issue can be overcome by using a more general learning method.\n",
    "- This can occur when:\n",
    "  - $P(y|x)$ are the same but $P(x)$ are different. (covariate shift)\n",
    "  - $P(y|x)$ are different. (concept shift)\n",
    "- The causes can be:\n",
    "  - Training samples are obtained in a biased way. (sample selection bias)\n",
    "  - Train is different from test because of temporal, spatial changes. (non-stationary environments)\n",
    "- Solution to covariate shift\n",
    "  - importance weighted cv"
   ]
  },
  {
   "cell_type": "markdown",
   "metadata": {},
   "source": [
    "### 3. What are some ways I can make my model more robust to outliers?"
   ]
  },
  {
   "cell_type": "markdown",
   "metadata": {},
   "source": [
    "<span class='label label-default'>Solution</span>\n",
    "\n",
    "- We can have regularization such as L1 or L2 to reduce variance (increase bias).\n",
    "- Changes to the algorithm:\n",
    "  - Use tree-based methods instead of regression methods as they are more resistant to outliers. For statistical tests, use non parametric tests instead of parametric ones.\n",
    "  - Use robust error metrics such as MAE or Huber Loss instead of MSE.\n",
    "- Changes to the data:\n",
    "  - Winsorizing the data\n",
    "  - Transforming the data (e.g. log)\n",
    "  - Remove them only if you’re certain they’re anomalies and not worth predicting"
   ]
  },
  {
   "cell_type": "markdown",
   "metadata": {},
   "source": [
    "### What are some differences you would expect in a model that minimizes squared error, versus a model that minimizes absolute error? In which cases would each error metric be appropriate?"
   ]
  },
  {
   "cell_type": "markdown",
   "metadata": {},
   "source": [
    "<span class='label label-default'>Solution</span>\n",
    "\n",
    "- MSE is more strict to having outliers. MAE is more robust in that sense, but is harder to fit the model for because it cannot be numerically optimized. So when there are less variability in the model and the model is computationally easy to fit, we should use MAE, and if that’s not the case, we should use MSE.\n",
    "- MSE: easier to compute the gradient, MAE: linear programming needed to compute the gradient\n",
    "- MAE more robust to outliers. If the consequences of large errors are great, use MSE\n",
    "- MSE corresponds to maximizing likelihood of Gaussian random variables"
   ]
  },
  {
   "cell_type": "markdown",
   "metadata": {},
   "source": [
    "### 5. What error metric would you use to evaluate how good a binary classifier is? What if the classes are imbalanced? What if there are more than 2 groups?"
   ]
  },
  {
   "cell_type": "markdown",
   "metadata": {},
   "source": [
    "<span class='label label-default'>Solution</span>\n",
    "\n",
    "- Accuracy: proportion of instances you predict correctly.\n",
    "  - Pros: intuitive, easy to explain\n",
    "  - Cons: works poorly when the class labels are imbalanced and the signal from the data is weak\n",
    "- ROC curve and AUC: plot false-positive-rate (fpr) on the x axis and true-positive-rate (tpr) on the y axis for different threshold. Given a random positive instance and a random negative instance, the AUC is the probability that you can identify who's who.\n",
    "  - Pros: Works well when testing the ability of distinguishing the two classes.\n",
    "  - Cons: can’t interpret predictions as probabilities (because AUC is determined by rankings), so can’t explain the uncertainty of the model, and it doesn't work for multi-class case.\n",
    "- logloss/deviance/cross entropy:\n",
    "  - Pros: error metric based on probabilities\n",
    "  - Cons: very sensitive to false positives, negatives\n",
    "- When there are more than 2 groups, we can have k binary classifications and add them up for logloss. Some metrics like AUC is only applicable in the binary case."
   ]
  },
  {
   "cell_type": "markdown",
   "metadata": {},
   "source": [
    "### 6. What are various ways to predict a binary response variable? Can you compare two of them and tell me when one would be more appropriate? What’s the difference between these? (SVM, Logistic Regression, Naive Bayes, Decision Tree, etc.)"
   ]
  },
  {
   "cell_type": "markdown",
   "metadata": {},
   "source": [
    "<span class='label label-default'>Solution</span>\n",
    "\n",
    "- Things to look at: N, P, linearly separable, features independent, likely to overfit, speed, performance, memory usage and so on.\n",
    "- Logistic Regression\n",
    "  - features roughly linear, problem roughly linearly separable\n",
    "  - robust to noise, use l1,l2 regularization for model selection, avoid overfitting\n",
    "  - the output come as probabilities\n",
    "  - efficient and the computation can be distributed\n",
    "  - can be used as a baseline for other algorithms\n",
    "  - (-) can hardly handle categorical features\n",
    "- SVM\n",
    "  - with a nonlinear kernel, can deal with problems that are not linearly separable\n",
    "  - (-) slow to train, for most industry scale applications, not really efficient\n",
    "- Naive Bayes\n",
    "  - computationally efficient when P is large by alleviating the curse of dimensionality\n",
    "  - works surprisingly well for some cases even if the condition doesn’t hold\n",
    "  - with word frequencies as features, the independence assumption can be seen reasonable. So the algorithm can be used in text categorization\n",
    "  - (-) conditional independence of every other feature should be met\n",
    "- Tree Ensembles\n",
    "  - good for large N and large P, can deal with categorical features very well\n",
    "  - non parametric, so no need to worry about outliers\n",
    "  - GBT’s work better but the parameters are harder to tune\n",
    "  - RF works out of the box, but usually performs worse than GBT\n",
    "- Deep Learning\n",
    "  - works well for some classification tasks (e.g. image)\n",
    "  - used to squeeze something out of the problem"
   ]
  },
  {
   "cell_type": "markdown",
   "metadata": {},
   "source": [
    "### 7. What is regularization and where might it be helpful? What is an example of using regularization in a model?"
   ]
  },
  {
   "cell_type": "markdown",
   "metadata": {},
   "source": [
    "<span class='label label-default'>Solution</span>\n",
    "\n",
    "- Regularization is useful for reducing variance in the model, meaning avoiding overfitting.\n",
    "- For example, we can use L1 regularization in Lasso regression to penalize large coefficients and automatically select features, or we can also use L2 regularization for Ridge regression to penalize the feature coefficients."
   ]
  },
  {
   "cell_type": "markdown",
   "metadata": {},
   "source": [
    "### 8. Why might it be preferable to include fewer predictors over many?"
   ]
  },
  {
   "cell_type": "markdown",
   "metadata": {},
   "source": [
    "<span class='label label-default'>Solution</span>\n",
    "\n",
    "- When we add irrelevant features, it increases model's tendency to overfit because those features introduce more noise. When two variables are correlated, they might be harder to interpret in case of regression, etc.\n",
    "- curse of dimensionality\n",
    "- adding random noise makes the model more complicated but useless\n",
    "- computational cost\n",
    "- Ask someone for more details."
   ]
  },
  {
   "cell_type": "markdown",
   "metadata": {},
   "source": [
    "### 9. Given training data on tweets and their retweets, how would you predict the number of retweets of a given tweet after 7 days after only observing 2 days worth of data?"
   ]
  },
  {
   "cell_type": "markdown",
   "metadata": {},
   "source": [
    "<span class='label label-default'>Solution</span>\n",
    "\n",
    "- Build a time series model with the training data with a seven day cycle and then use that for a new data with only 2 days data.\n",
    "- Ask someone for more details.\n",
    "- Build a regression function to estimate the number of retweets as a function of time t\n",
    "- to determine if one regression function can be built, see if there are clusters in terms of the trends in the number of retweets\n",
    "- if not, we have to add features to the regression function\n",
    "- features + # of retweets on the first and the second day ➞ predict the seventh day\n",
    "- https://en.wikipedia.org/wiki/Dynamic_time_warping"
   ]
  },
  {
   "cell_type": "markdown",
   "metadata": {},
   "source": [
    "### 10. How could you collect and analyze data to use social media to predict the weather?"
   ]
  },
  {
   "cell_type": "markdown",
   "metadata": {},
   "source": [
    "<span class='label label-default'>Solution</span>\n",
    "\n",
    "- We can collect social media data using twitter, Facebook, instagram API’s.\n",
    "- Then, for example, for twitter, we can construct features from each tweet, e.g. the tweeted date, number of favorites, retweets, and of course, the features created from the tweeted content itself.\n",
    "- Then use a multivariate time series model to predict the weather.\n",
    "- Ask someone for more details."
   ]
  },
  {
   "cell_type": "markdown",
   "metadata": {},
   "source": [
    "### 11. How would you construct a feed to show relevant content for a site that involves user interactions with items?"
   ]
  },
  {
   "cell_type": "markdown",
   "metadata": {},
   "source": [
    "<span class='label label-default'>Solution</span>\n",
    "\n",
    "- We can do so using building a recommendation engine.\n",
    "- The easiest we can do is to show contents that are popular other users, which is still a valid strategy if for example the contents are news articles.\n",
    "- To be more accurate, we can build a content based filtering or collaborative filtering. If there’s enough user usage data, we can try collaborative filtering and recommend contents other similar users have consumed. If there isn’t, we can recommend similar items based on vectorization of items (content based filtering)."
   ]
  },
  {
   "cell_type": "markdown",
   "metadata": {},
   "source": [
    "### 12. How would you design the people you may know feature on LinkedIn or Facebook?"
   ]
  },
  {
   "cell_type": "markdown",
   "metadata": {},
   "source": [
    "<span class='label label-default'>Solution</span>\n",
    "\n",
    "- Find strong unconnected people in weighted connection graph\n",
    "  - Define similarity as how strong the two people are connected\n",
    "  - Given a certain feature, we can calculate the similarity based on\n",
    "    - friend connections (neighbors)\n",
    "    - Check-in’s people being at the same location all the time.\n",
    "    - same college, workplace\n",
    "    - Have randomly dropped graphs test the performance of the algorithm\n",
    "- Ref. News Feed Optimization\n",
    "  - Affinity score: how close the content creator and the users are\n",
    "  - Weight: weight for the edge type (comment, like, tag, etc.). Emphasis on features the company wants to promote\n",
    "  - Time decay: the older the less important"
   ]
  },
  {
   "cell_type": "markdown",
   "metadata": {},
   "source": [
    "### 13. How would you predict who someone may want to send a Snapchat or Gmail to?"
   ]
  },
  {
   "cell_type": "markdown",
   "metadata": {},
   "source": [
    "<span class='label label-default'>Solution</span>\n",
    "\n",
    "- for each user, assign a score of how likely someone would send an email to\n",
    "- the rest is feature engineering:\n",
    "  - number of past emails, how many responses, the last time they exchanged an email, whether the last email ends with a question mark, features about the other users, etc.\n",
    "- Ask someone for more details.\n",
    "- People who someone sent emails the most in the past, conditioning on time decay."
   ]
  },
  {
   "cell_type": "markdown",
   "metadata": {},
   "source": [
    "### 14. How would you suggest to a franchise where to open a new store?"
   ]
  },
  {
   "cell_type": "markdown",
   "metadata": {},
   "source": [
    "<span class='label label-default'>Solution</span>\n",
    "\n",
    "- build a master dataset with local demographic information available for each location.\n",
    "  - local income levels, proximity to traffic, weather, population density, proximity to other businesses\n",
    "  - a reference dataset on local, regional, and national macroeconomic conditions (e.g. unemployment, inflation, prime interest rate, etc.)\n",
    "  - any data on the local franchise owner-operators, to the degree the manager\n",
    "- identify a set of KPIs acceptable to the management that had requested the analysis concerning the most desirable factors surrounding a franchise\n",
    "  - quarterly operating profit, ROI, EVA, pay-down rate, etc.\n",
    "- run econometric models to understand the relative significance of each variable\n",
    "- run machine learning algorithms to predict the performance of each location candidate"
   ]
  },
  {
   "cell_type": "markdown",
   "metadata": {},
   "source": [
    "### 15. In a search engine, given partial data on what the user has typed, how would you predict the user’s eventual search query?"
   ]
  },
  {
   "cell_type": "markdown",
   "metadata": {},
   "source": [
    "<span class='label label-default'>Solution</span>\n",
    "\n",
    "- Based on the past frequencies of words shown up given a sequence of words, we can construct conditional probabilities of the set of next sequences of words that can show up (n-gram). The sequences with highest conditional probabilities can show up as top candidates.\n",
    "- To further improve this algorithm,\n",
    "  - we can put more weight on past sequences which showed up more recently and near your location to account for trends\n",
    "  - show your recent searches given partial data\n",
    "- Personalize and localize the search\n",
    "  - Use the user's historical search data\n",
    "  - Use the historical data from the local region"
   ]
  },
  {
   "cell_type": "markdown",
   "metadata": {},
   "source": [
    "### 16. Given a database of all previous alumni donations to your university, how would you predict which recent alumni are most likely to donate?"
   ]
  },
  {
   "cell_type": "markdown",
   "metadata": {},
   "source": [
    "<span class='label label-default'>Solution</span>\n",
    "\n",
    "- Based on frequency and amount of donations, graduation year, major, etc, construct a supervised regression (or binary classification) algorithm."
   ]
  },
  {
   "cell_type": "markdown",
   "metadata": {},
   "source": [
    "### 17. You’re Uber and you want to design a heatmap to recommend to drivers where to wait for a passenger. How would you approach this?"
   ]
  },
  {
   "cell_type": "markdown",
   "metadata": {},
   "source": [
    "<span class='label label-default'>Solution</span>\n",
    "\n",
    "- Based on the past pickup location of passengers around the same time of the day, day of the week (month, year), construct\n",
    "- Ask someone for more details.\n",
    "- Based on the number of past pickups\n",
    "  - account for periodicity (seasonal, monthly, weekly, daily, hourly)\n",
    "  - special events (concerts, festivals, etc.) from tweets"
   ]
  },
  {
   "cell_type": "markdown",
   "metadata": {},
   "source": [
    "### 18. How would you build a model to predict a March Madness bracket?"
   ]
  },
  {
   "cell_type": "markdown",
   "metadata": {},
   "source": [
    "<span class='label label-default'>Solution</span>\n",
    "\n",
    "- One vector each for team A and B. Take the difference of the two vectors and use that as an input to predict the probability that team A would win by training the model. Train the models using past tournament data and make a prediction for the new tournament by running the trained model for each round of the tournament\n",
    "- Some extensions:\n",
    "  - Experiment with different ways of consolidating the 2 team vectors into one (e.g concantenating, averaging, etc)\n",
    "  - Consider using a RNN type model that looks at time series data."
   ]
  },
  {
   "cell_type": "markdown",
   "metadata": {},
   "source": [
    "### 19. You want to run a regression to predict the probability of a flight delay, but there are flights with delays of up to 12 hours that are really messing up your model. How can you address this?"
   ]
  },
  {
   "cell_type": "markdown",
   "metadata": {},
   "source": [
    "<span class='label label-default'>Solution</span>\n",
    "\n",
    "- This is equivalent to making the model more robust to outliers.\n",
    "- See **Question 3**."
   ]
  }
 ],
 "metadata": {
  "hide_input": false,
  "kernelspec": {
   "display_name": "Python 3",
   "language": "python",
   "name": "python3"
  },
  "language_info": {
   "codemirror_mode": {
    "name": "ipython",
    "version": 3
   },
   "file_extension": ".py",
   "mimetype": "text/x-python",
   "name": "python",
   "nbconvert_exporter": "python",
   "pygments_lexer": "ipython3",
   "version": "3.8.8"
  },
  "toc": {
   "base_numbering": 1,
   "nav_menu": {},
   "number_sections": true,
   "sideBar": true,
   "skip_h1_title": false,
   "title_cell": "Table of Contents",
   "title_sidebar": "Contents",
   "toc_cell": false,
   "toc_position": {},
   "toc_section_display": true,
   "toc_window_display": false
  },
  "varInspector": {
   "cols": {
    "lenName": 16,
    "lenType": 16,
    "lenVar": 40
   },
   "kernels_config": {
    "python": {
     "delete_cmd_postfix": "",
     "delete_cmd_prefix": "del ",
     "library": "var_list.py",
     "varRefreshCmd": "print(var_dic_list())"
    },
    "r": {
     "delete_cmd_postfix": ") ",
     "delete_cmd_prefix": "rm(",
     "library": "var_list.r",
     "varRefreshCmd": "cat(var_dic_list()) "
    }
   },
   "types_to_exclude": [
    "module",
    "function",
    "builtin_function_or_method",
    "instance",
    "_Feature"
   ],
   "window_display": false
  }
 },
 "nbformat": 4,
 "nbformat_minor": 2
}
