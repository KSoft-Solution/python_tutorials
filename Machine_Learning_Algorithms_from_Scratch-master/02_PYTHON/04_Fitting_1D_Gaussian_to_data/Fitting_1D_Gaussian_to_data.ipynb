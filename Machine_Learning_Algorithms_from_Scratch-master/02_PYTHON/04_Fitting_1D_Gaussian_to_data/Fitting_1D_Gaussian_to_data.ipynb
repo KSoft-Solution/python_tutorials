{
 "cells": [
  {
   "cell_type": "markdown",
   "id": "c5b12fc7",
   "metadata": {
    "ExecuteTime": {
     "end_time": "2021-12-20T03:18:13.862346Z",
     "start_time": "2021-12-20T03:18:13.817895Z"
    }
   },
   "source": [
    "<a href=\"https://github.com/milaan9/Machine_Learning_Algorithms_from_Scratch\"><img src=\"https://img.shields.io/badge/All the IPython Notebooks in Machine_Learning_Algorithms_from_Scratch lecture series by Dr. Milaan Parmar are available ➔ -GitHub-blueviolet.svg\" alt=\"logo\"/></a>"
   ]
  },
  {
   "cell_type": "code",
   "execution_count": 1,
   "id": "c7d6f26e",
   "metadata": {
    "ExecuteTime": {
     "end_time": "2021-12-20T04:46:20.840596Z",
     "start_time": "2021-12-20T04:46:17.145675Z"
    }
   },
   "outputs": [
    {
     "name": "stdout",
     "output_type": "stream",
     "text": [
      "data/yeast_training.txt\n",
      "⤵\n",
      "\n",
      "Class 1  dimension  1  mean = 0.52  variance = 0.01\n",
      "Class 1  dimension  2  mean = 0.54  variance = 0.01\n",
      "Class 1  dimension  3  mean = 0.52  variance = 0.01\n",
      "Class 1  dimension  4  mean = 0.41  variance = 0.03\n",
      "Class 1  dimension  5  mean = 0.50  variance = 0.00\n",
      "Class 1  dimension  6  mean = 0.00  variance = 0.00\n",
      "Class 1  dimension  7  mean = 0.50  variance = 0.00\n",
      "Class 1  dimension  8  mean = 0.24  variance = 0.00\n",
      "Class 2  dimension  1  mean = 0.45  variance = 0.01\n",
      "Class 2  dimension  2  mean = 0.45  variance = 0.01\n",
      "Class 2  dimension  3  mean = 0.53  variance = 0.00\n",
      "Class 2  dimension  4  mean = 0.23  variance = 0.01\n",
      "Class 2  dimension  5  mean = 0.50  variance = 0.00\n",
      "Class 2  dimension  6  mean = 0.00  variance = 0.00\n",
      "Class 2  dimension  7  mean = 0.49  variance = 0.00\n",
      "Class 2  dimension  8  mean = 0.33  variance = 0.02\n",
      "Class 3  dimension  1  mean = 0.43  variance = 0.01\n",
      "Class 3  dimension  2  mean = 0.48  variance = 0.01\n",
      "Class 3  dimension  3  mean = 0.36  variance = 0.00\n",
      "Class 3  dimension  4  mean = 0.22  variance = 0.01\n",
      "Class 3  dimension  5  mean = 0.51  variance = 0.00\n",
      "Class 3  dimension  6  mean = 0.00  variance = 0.00\n",
      "Class 3  dimension  7  mean = 0.51  variance = 0.00\n",
      "Class 3  dimension  8  mean = 0.27  variance = 0.01\n",
      "Class 4  dimension  1  mean = 0.79  variance = 0.01\n",
      "Class 4  dimension  2  mean = 0.76  variance = 0.01\n",
      "Class 4  dimension  3  mean = 0.38  variance = 0.00\n",
      "Class 4  dimension  4  mean = 0.32  variance = 0.01\n",
      "Class 4  dimension  5  mean = 0.50  variance = 0.00\n",
      "Class 4  dimension  6  mean = 0.00  variance = 0.00\n",
      "Class 4  dimension  7  mean = 0.51  variance = 0.00\n",
      "Class 4  dimension  8  mean = 0.27  variance = 0.01\n",
      "Class 5  dimension  1  mean = 0.74  variance = 0.02\n",
      "Class 5  dimension  2  mean = 0.62  variance = 0.02\n",
      "Class 5  dimension  3  mean = 0.42  variance = 0.01\n",
      "Class 5  dimension  4  mean = 0.30  variance = 0.02\n",
      "Class 5  dimension  5  mean = 0.50  variance = 0.00\n",
      "Class 5  dimension  6  mean = 0.00  variance = 0.00\n",
      "Class 5  dimension  7  mean = 0.51  variance = 0.00\n",
      "Class 5  dimension  8  mean = 0.24  variance = 0.00\n",
      "Class 6  dimension  1  mean = 0.54  variance = 0.02\n",
      "Class 6  dimension  2  mean = 0.50  variance = 0.01\n",
      "Class 6  dimension  3  mean = 0.51  variance = 0.00\n",
      "Class 6  dimension  4  mean = 0.24  variance = 0.01\n",
      "Class 6  dimension  5  mean = 0.50  variance = 0.00\n",
      "Class 6  dimension  6  mean = 0.49  variance = 0.15\n",
      "Class 6  dimension  7  mean = 0.51  variance = 0.00\n",
      "Class 6  dimension  8  mean = 0.24  variance = 0.00\n",
      "Class 7  dimension  1  mean = 0.48  variance = 0.01\n",
      "Class 7  dimension  2  mean = 0.47  variance = 0.01\n",
      "Class 7  dimension  3  mean = 0.54  variance = 0.00\n",
      "Class 7  dimension  4  mean = 0.22  variance = 0.01\n",
      "Class 7  dimension  5  mean = 0.50  variance = 0.00\n",
      "Class 7  dimension  6  mean = 0.00  variance = 0.00\n",
      "Class 7  dimension  7  mean = 0.50  variance = 0.00\n",
      "Class 7  dimension  8  mean = 0.26  variance = 0.01\n",
      "Class 8  dimension  1  mean = 0.74  variance = 0.01\n",
      "Class 8  dimension  2  mean = 0.73  variance = 0.01\n",
      "Class 8  dimension  3  mean = 0.49  variance = 0.00\n",
      "Class 8  dimension  4  mean = 0.29  variance = 0.00\n",
      "Class 8  dimension  5  mean = 0.50  variance = 0.00\n",
      "Class 8  dimension  6  mean = 0.00  variance = 0.00\n",
      "Class 8  dimension  7  mean = 0.46  variance = 0.01\n",
      "Class 8  dimension  8  mean = 0.23  variance = 0.00\n",
      "Class 9  dimension  1  mean = 0.55  variance = 0.02\n",
      "Class 9  dimension  2  mean = 0.56  variance = 0.03\n",
      "Class 9  dimension  3  mean = 0.51  variance = 0.00\n",
      "Class 9  dimension  4  mean = 0.20  variance = 0.00\n",
      "Class 9  dimension  5  mean = 0.50  variance = 0.00\n",
      "Class 9  dimension  6  mean = 0.00  variance = 0.00\n",
      "Class 9  dimension  7  mean = 0.53  variance = 0.00\n",
      "Class 9  dimension  8  mean = 0.24  variance = 0.00\n",
      "Class 10  dimension  1  mean = 0.78  variance = 0.00\n",
      "Class 10  dimension  2  mean = 0.73  variance = 0.02\n",
      "Class 10  dimension  3  mean = 0.48  variance = 0.01\n",
      "Class 10  dimension  4  mean = 0.33  variance = 0.01\n",
      "Class 10  dimension  5  mean = 1.00  variance = 0.00\n",
      "Class 10  dimension  6  mean = 0.00  variance = 0.00\n",
      "Class 10  dimension  7  mean = 0.55  variance = 0.00\n",
      "Class 10  dimension  8  mean = 0.23  variance = 0.00\n"
     ]
    }
   ],
   "source": [
    "import math\n",
    "\n",
    "\n",
    "class Task4:\n",
    "\tdef __init__(self, data, y):\n",
    "\t\tself.data_list = data\n",
    "\t\tself.column_number = y\n",
    "\t\tself.mean = 0\n",
    "\t\tself.sigma = 0\n",
    "\n",
    "\tdef calculate_mean(self):\n",
    "\t\tsummation = 0\n",
    "\t\tfor elements in self.data_list:\n",
    "\t\t\tsummation += elements[self.column_number]\n",
    "\t\tself.mean = summation / len(self.data_list)\n",
    "\t\treturn self.mean\n",
    "\n",
    "\tdef calculate_sigma(self):\n",
    "\t\tif len(self.data_list) == 0:\n",
    "\t\t\treturn 0\n",
    "\t\tsummation = 0\n",
    "\t\tfor elements in self.data_list:\n",
    "\t\t\tsummation += ((elements[self.column_number] - self.mean) * (elements[self.column_number] - self.mean))\n",
    "\t\tself.sigma = math.sqrt(summation / (len(self.data_list)-1))\n",
    "\t\treturn math.pow(self.sigma, 2)\n",
    "\n",
    "\n",
    "def load_data_set(filename):\n",
    "\tinput_file = open(filename, \"r\")\n",
    "\tprint(\"⤵\\n\")    \n",
    "\tunique_labels = []\n",
    "\tdictionary = {}\n",
    "\tfor line in input_file:\n",
    "\t\trow_list = (line.split(\" \"))\n",
    "\t\trow_list = list(filter(None, row_list))\n",
    "\t\trow_list = list(map(float, row_list))\n",
    "\t\tif row_list[-1] in dictionary:\n",
    "\t\t\tdictionary[row_list[-1]].append(row_list[0: -1])\n",
    "\t\telse:\n",
    "\t\t\tunique_labels.append(row_list[-1])\n",
    "\t\t\tdictionary[row_list[-1]] = [row_list[0: -1]]\n",
    "\treturn dictionary, unique_labels\n",
    "\n",
    "\n",
    "def main():\n",
    "\tfile_path = input()\n",
    "\tdic, unique_labels = load_data_set(file_path)\n",
    "\tunique_labels = sorted(unique_labels)\n",
    "\tfor label in range(0, len(unique_labels)):\n",
    "\t\tfor dimension in range(0, len(dic[unique_labels[label]][0])):\n",
    "\t\t\ttask4 = Task4(dic[unique_labels[label]], dimension)\n",
    "\t\t\tmean = task4.calculate_mean()\n",
    "\t\t\tsigma = task4.calculate_sigma()\n",
    "\t\t\tprint(\"Class %d\" % unique_labels[label], \" dimension \", dimension + 1, \" mean = %.2f\" % mean, \" variance = %.2f\" % sigma)\n",
    "\n",
    "main()\n",
    "\n",
    "\n",
    "# ▶ Run and Enter ➜ data/yeast_training.txt\n",
    "# or\n",
    "# ▶ Run and Enter ➜ data/satellite_training.txt"
   ]
  },
  {
   "cell_type": "code",
   "execution_count": null,
   "id": "5285289a",
   "metadata": {},
   "outputs": [],
   "source": []
  }
 ],
 "metadata": {
  "kernelspec": {
   "display_name": "Python 3",
   "language": "python",
   "name": "python3"
  },
  "language_info": {
   "codemirror_mode": {
    "name": "ipython",
    "version": 3
   },
   "file_extension": ".py",
   "mimetype": "text/x-python",
   "name": "python",
   "nbconvert_exporter": "python",
   "pygments_lexer": "ipython3",
   "version": "3.8.8"
  },
  "toc": {
   "base_numbering": 1,
   "nav_menu": {},
   "number_sections": true,
   "sideBar": true,
   "skip_h1_title": false,
   "title_cell": "Table of Contents",
   "title_sidebar": "Contents",
   "toc_cell": false,
   "toc_position": {},
   "toc_section_display": true,
   "toc_window_display": false
  },
  "varInspector": {
   "cols": {
    "lenName": 16,
    "lenType": 16,
    "lenVar": 40
   },
   "kernels_config": {
    "python": {
     "delete_cmd_postfix": "",
     "delete_cmd_prefix": "del ",
     "library": "var_list.py",
     "varRefreshCmd": "print(var_dic_list())"
    },
    "r": {
     "delete_cmd_postfix": ") ",
     "delete_cmd_prefix": "rm(",
     "library": "var_list.r",
     "varRefreshCmd": "cat(var_dic_list()) "
    }
   },
   "types_to_exclude": [
    "module",
    "function",
    "builtin_function_or_method",
    "instance",
    "_Feature"
   ],
   "window_display": false
  }
 },
 "nbformat": 4,
 "nbformat_minor": 5
}
