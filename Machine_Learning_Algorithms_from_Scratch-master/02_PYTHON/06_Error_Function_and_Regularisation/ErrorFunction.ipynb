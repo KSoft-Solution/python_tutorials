{
 "cells": [
  {
   "cell_type": "markdown",
   "id": "9b08db6b",
   "metadata": {
    "ExecuteTime": {
     "end_time": "2021-12-20T03:18:13.862346Z",
     "start_time": "2021-12-20T03:18:13.817895Z"
    }
   },
   "source": [
    "<a href=\"https://github.com/milaan9/Machine_Learning_Algorithms_from_Scratch\"><img src=\"https://img.shields.io/badge/All the IPython Notebooks in Machine_Learning_Algorithms_from_Scratch lecture series by Dr. Milaan Parmar are available ➔ -GitHub-blueviolet.svg\" alt=\"logo\"/></a>"
   ]
  },
  {
   "cell_type": "markdown",
   "id": "4a4ff1c9",
   "metadata": {
    "ExecuteTime": {
     "end_time": "2021-12-20T03:11:54.786692Z",
     "start_time": "2021-12-20T03:11:54.755704Z"
    }
   },
   "source": [
    "### 1. Error Function\n",
    "\n",
    "<div>\n",
    "<img src=\"img/errorfunction.png\" width=\"350\"/>\n",
    "</div>\n",
    "\n",
    "### 2. Regularised Error\n",
    "\n",
    "<div>\n",
    "<img src=\"img/regularisederror.png\" width=\"550\"/>\n",
    "</div>"
   ]
  },
  {
   "cell_type": "code",
   "execution_count": 1,
   "id": "7bc6a917",
   "metadata": {
    "ExecuteTime": {
     "end_time": "2021-12-20T02:59:19.441434Z",
     "start_time": "2021-12-20T02:59:19.168343Z"
    }
   },
   "outputs": [
    {
     "name": "stdout",
     "output_type": "stream",
     "text": [
      "E(w) = (1/2) {∑n=1 [y(xn, w) – tn] ^ 2 } =  161.04692764875\n",
      "E(w) = (1/2) {∑n=1 [y(xn, w) – tn] ^ 2 } =  1.2260066553999995\n",
      "wMagnitude 15.25\n",
      "regularisationTerm 1.90625\n",
      "E(w) = (1/2) {∑n=1 [y(xn, w) – tn] ^ 2}+  [(1/2)(λ)(||w||^2)] =  162.95317764875\n",
      "wMagnitude 32.040000000000006\n",
      "regularisationTerm 4.005000000000001\n",
      "E(w) = (1/2) {∑n=1 [y(xn, w) – tn] ^ 2}+  [(1/2)(λ)(||w||^2)] =  5.2310066554\n"
     ]
    }
   ],
   "source": [
    "import numpy as np\n",
    "\n",
    "\n",
    "class ErrorFunction:\n",
    "\n",
    "\tdef __init__(self, w_vector, in_vector, out_vector):\n",
    "\t\tself.coEfficientVector = w_vector\n",
    "\t\tself.inVec = in_vector\n",
    "\t\tself.outVec = out_vector\n",
    "\t\tself.w_magnitude = 0\n",
    "\n",
    "\tdef calculate_y(self):\n",
    "\t\t\"\"\"\n",
    "\t\tThis Function calculate_y takes takes two numpyArray as argument and\n",
    "\t\tcalculates y(xi, w) = w1 * xi, 1 + w2 * xi, 2 + w3 * xi, 3.\n",
    "\t\tsumOfRows = y(xi, w) and returns sumOfRows\n",
    "\t\t\"\"\"\n",
    "\t\n",
    "\t\tvector = self.coEfficientVector * self.inVec\n",
    "\t\tsum_of_rows = vector.sum(axis=1)\n",
    "\t\treturn sum_of_rows\n",
    "\t\n",
    "\tdef calculate_sum_of_difference_of_square(self, y_vector):\n",
    "\t\t\"\"\"\n",
    "\t\tThis Function calculate_sum_of_difference_of_square takes takes two numpyArray as argument and\n",
    "\t\tcalculates E(w) = (1/2) {∑n=1 [y(xn, w) – tn] ^ 2 }\n",
    "\t\tsumOfRows = y(xi, w) and returns sumOfRows\n",
    "\t\t\"\"\"\n",
    "\t\t\n",
    "\t\tsum_of_difference = y_vector - self.outVec\n",
    "\t\tsum_of_difference = np.square(sum_of_difference)\n",
    "\t\tsummation_first = sum_of_difference.sum()\n",
    "\t\tsummation_first /= 2\n",
    "\t\treturn summation_first\n",
    "\n",
    "\tdef calculate_w_magnitude(self):\n",
    "\t\t\"\"\"\n",
    "\t\tThis function calculate_w_magnitude calculates the magnitude of the co-efficient vector\n",
    "\t\tit takes co-efficient vector as argument and returns a number which is the magnitude of the coefficient vector\n",
    "\t\tbasically ||w||^2 is calculated over here by calculate_W_Magnitude function\n",
    "\t\t\"\"\"\n",
    "\t\t\n",
    "\t\tself.coEfficientVector = np.square(self.coEfficientVector)\n",
    "\t\tself.w_magnitude = self.coEfficientVector.sum()\n",
    "\t\tprint(\"wMagnitude\", self.w_magnitude)\n",
    "\n",
    "\tdef calculate_regularisation_term(self, lambda_variable):\n",
    "\t\t\"\"\"\n",
    "\t\tThis function calculate_w_magnitude calculates the magnitude of the co-efficient vector\n",
    "\t\tit takes co-efficient vector as argument and returns a number which is the magnitude of the coefficient vector\n",
    "\t\tbasically ||w||^2 is calculated over here by calculate_W_Magnitude function\n",
    "\t\t\"\"\"\n",
    "\t\thalf_lambda_variable = lambda_variable / 2\n",
    "\t\tregularisation_term = half_lambda_variable * self.w_magnitude\n",
    "\t\tprint(\"regularisationTerm\", regularisation_term)\n",
    "\t\treturn regularisation_term\n",
    "\n",
    "\t@staticmethod\n",
    "\tdef regularisation(first_term, second_term):\n",
    "\t\treturn first_term + second_term\n",
    "\n",
    "\n",
    "def load_data_set(filename):\n",
    "\t\"\"\"\n",
    "\tThis Function load_data_set takes filename as argument and reads the data from the filename and stores\n",
    "\tit in a list\n",
    "\t\"\"\"\n",
    "\t\n",
    "\tinput_file = open(filename, \"r\")\n",
    "\tline_list = []\n",
    "\tloop_count = 0\n",
    "\tfor line in input_file:\n",
    "\t\tloop_count += 1\n",
    "\t\tline = line.strip('\\n')\n",
    "\t\trow_list = (line.split(\"    \"))\n",
    "\t\trow_list = list(map(float, row_list))\n",
    "\t\tline_list.append(row_list)\n",
    "\treturn line_list, loop_count\n",
    "\n",
    "\n",
    "def insert_in_array(list_vector, count, number):\n",
    "\t\"\"\"This Function insert_in_array takes list, countOfLoops of load data set function, number\n",
    "\tas argument and stores the list elements into the Numpy Array and returns that Numpy Array\n",
    "\t\"\"\"\n",
    "\t\n",
    "\tif number == 1:\n",
    "\t\tdata_numpy = np.reshape(list_vector, count)\n",
    "\telse:\n",
    "\t\tdata_numpy = np.reshape(list_vector, (count, number))\n",
    "\treturn data_numpy\n",
    "\n",
    "\n",
    "def main():\n",
    "\tin_list_vector, row_count = load_data_set(\"data/training_inputs1.txt\")\n",
    "\tout_list_vector, row_count = load_data_set(\"data/training_outputs1.txt\")\n",
    "\tin_data_vector = insert_in_array(in_list_vector, row_count, 3)\n",
    "\tout_data_vector = insert_in_array(out_list_vector, row_count, 1)\n",
    "\t'''===================================================================='''\n",
    "\ttask1 = ErrorFunction(np.array((3, -1.5, -2)), in_data_vector, out_data_vector)\n",
    "\ty_vector = task1.calculate_y()\n",
    "\terr_func1 = task1.calculate_sum_of_difference_of_square(y_vector)\n",
    "\tprint(\"E(w) = (1/2) {∑n=1 [y(xn, w) – tn] ^ 2 } = \", err_func1)\n",
    "\t'''===================================================================='''\n",
    "\ttask2 = ErrorFunction(np.array((5.2, -2, 1)), in_data_vector, out_data_vector)\n",
    "\ty_vector = task2.calculate_y()\n",
    "\terr_func2 = task2.calculate_sum_of_difference_of_square(y_vector)\n",
    "\tprint(\"E(w) = (1/2) {∑n=1 [y(xn, w) – tn] ^ 2 } = \", err_func2)\n",
    "\t'''===================================================================='''\n",
    "\ttask1.calculate_w_magnitude()\n",
    "\tsecond_term1 = task1.calculate_regularisation_term(0.25)\n",
    "\terr_func_regularised = task1.regularisation(err_func1, second_term1)\n",
    "\tprint(\"E(w) = (1/2) {∑n=1 [y(xn, w) – tn] ^ 2}+  [(1/2)(λ)(||w||^2)] = \", err_func_regularised)\n",
    "\t'''===================================================================='''\n",
    "\ttask2.calculate_w_magnitude()\n",
    "\tsecond_term2 = task2.calculate_regularisation_term(0.25)\n",
    "\terr_func_regularised = task1.regularisation(err_func2, second_term2)\n",
    "\tprint(\"E(w) = (1/2) {∑n=1 [y(xn, w) – tn] ^ 2}+  [(1/2)(λ)(||w||^2)] = \", err_func_regularised)\n",
    "\n",
    "\n",
    "main()"
   ]
  },
  {
   "cell_type": "code",
   "execution_count": null,
   "id": "7670fb00",
   "metadata": {},
   "outputs": [],
   "source": []
  }
 ],
 "metadata": {
  "kernelspec": {
   "display_name": "Python 3",
   "language": "python",
   "name": "python3"
  },
  "language_info": {
   "codemirror_mode": {
    "name": "ipython",
    "version": 3
   },
   "file_extension": ".py",
   "mimetype": "text/x-python",
   "name": "python",
   "nbconvert_exporter": "python",
   "pygments_lexer": "ipython3",
   "version": "3.8.8"
  },
  "toc": {
   "base_numbering": 1,
   "nav_menu": {},
   "number_sections": true,
   "sideBar": true,
   "skip_h1_title": false,
   "title_cell": "Table of Contents",
   "title_sidebar": "Contents",
   "toc_cell": false,
   "toc_position": {},
   "toc_section_display": true,
   "toc_window_display": false
  },
  "varInspector": {
   "cols": {
    "lenName": 16,
    "lenType": 16,
    "lenVar": 40
   },
   "kernels_config": {
    "python": {
     "delete_cmd_postfix": "",
     "delete_cmd_prefix": "del ",
     "library": "var_list.py",
     "varRefreshCmd": "print(var_dic_list())"
    },
    "r": {
     "delete_cmd_postfix": ") ",
     "delete_cmd_prefix": "rm(",
     "library": "var_list.r",
     "varRefreshCmd": "cat(var_dic_list()) "
    }
   },
   "types_to_exclude": [
    "module",
    "function",
    "builtin_function_or_method",
    "instance",
    "_Feature"
   ],
   "window_display": false
  }
 },
 "nbformat": 4,
 "nbformat_minor": 5
}
