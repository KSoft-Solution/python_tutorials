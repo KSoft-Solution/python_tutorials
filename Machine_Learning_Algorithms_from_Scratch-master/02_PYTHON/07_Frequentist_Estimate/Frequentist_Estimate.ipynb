{
 "cells": [
  {
   "cell_type": "markdown",
   "id": "c5b12fc7",
   "metadata": {
    "ExecuteTime": {
     "end_time": "2021-12-20T03:18:13.862346Z",
     "start_time": "2021-12-20T03:18:13.817895Z"
    }
   },
   "source": [
    "<a href=\"https://github.com/milaan9/Machine_Learning_Algorithms_from_Scratch\"><img src=\"https://img.shields.io/badge/All the IPython Notebooks in Machine_Learning_Algorithms_from_Scratch lecture series by Dr. Milaan Parmar are available ➔ -GitHub-blueviolet.svg\" alt=\"logo\"/></a>"
   ]
  },
  {
   "cell_type": "code",
   "execution_count": 1,
   "id": "c7d6f26e",
   "metadata": {
    "ExecuteTime": {
     "end_time": "2021-12-20T05:46:00.120744Z",
     "start_time": "2021-12-20T05:46:00.084767Z"
    }
   },
   "outputs": [
    {
     "name": "stdout",
     "output_type": "stream",
     "text": [
      "p(c = 'a') = 0.1026\n"
     ]
    }
   ],
   "source": [
    "import random\n",
    "\n",
    "\n",
    "class Task1:\n",
    "\n",
    "\tdef __init__(self):\n",
    "\t\t\"\"\"This Function initialises the random uniform array and the string\"\"\"\n",
    "\t\t\n",
    "\t\tself.string = \"\"\n",
    "\n",
    "\tdef form_string(self):\n",
    "\t\t\"\"\" This Function will form the string which will contain a and b \"\"\"\n",
    "\t\t\n",
    "\t\tfor x in range(0, 3100):\n",
    "\t\t\trandom_number = random.uniform(0, 1)\n",
    "\t\t\tif random_number > 0.1:\n",
    "\t\t\t\tself.string += \"b\"\n",
    "\t\t\telse:\n",
    "\t\t\t\tself.string += \"a\"\n",
    "\n",
    "\tdef probability_of_character(self, character):\n",
    "\t\t\"\"\" This function calculates the probability of occurrence of certain character in the string \"\"\"\n",
    "\t\tcount_of_character = self.string.count(character)\n",
    "\t\tcount_of_character = float(count_of_character)\n",
    "\t\tprobability = count_of_character/len(self.string)\n",
    "\t\treturn probability\n",
    "\n",
    "if __name__ == \"__main__\":\n",
    "\t# start = time.time()\n",
    "\ttask1 = Task1()\n",
    "\ttask1.form_string()\n",
    "\tsolution1 = task1.probability_of_character(\"a\")\n",
    "\tprint(\"p(c = 'a') = %.4f\" % solution1)\n",
    "\t# end = time.time()\n",
    "\t# print(\"time\", end - start)\n"
   ]
  },
  {
   "cell_type": "code",
   "execution_count": null,
   "id": "5285289a",
   "metadata": {},
   "outputs": [],
   "source": []
  }
 ],
 "metadata": {
  "kernelspec": {
   "display_name": "Python 3",
   "language": "python",
   "name": "python3"
  },
  "language_info": {
   "codemirror_mode": {
    "name": "ipython",
    "version": 3
   },
   "file_extension": ".py",
   "mimetype": "text/x-python",
   "name": "python",
   "nbconvert_exporter": "python",
   "pygments_lexer": "ipython3",
   "version": "3.8.8"
  },
  "toc": {
   "base_numbering": 1,
   "nav_menu": {},
   "number_sections": true,
   "sideBar": true,
   "skip_h1_title": false,
   "title_cell": "Table of Contents",
   "title_sidebar": "Contents",
   "toc_cell": false,
   "toc_position": {},
   "toc_section_display": true,
   "toc_window_display": false
  },
  "varInspector": {
   "cols": {
    "lenName": 16,
    "lenType": 16,
    "lenVar": 40
   },
   "kernels_config": {
    "python": {
     "delete_cmd_postfix": "",
     "delete_cmd_prefix": "del ",
     "library": "var_list.py",
     "varRefreshCmd": "print(var_dic_list())"
    },
    "r": {
     "delete_cmd_postfix": ") ",
     "delete_cmd_prefix": "rm(",
     "library": "var_list.r",
     "varRefreshCmd": "cat(var_dic_list()) "
    }
   },
   "types_to_exclude": [
    "module",
    "function",
    "builtin_function_or_method",
    "instance",
    "_Feature"
   ],
   "window_display": false
  }
 },
 "nbformat": 4,
 "nbformat_minor": 5
}
