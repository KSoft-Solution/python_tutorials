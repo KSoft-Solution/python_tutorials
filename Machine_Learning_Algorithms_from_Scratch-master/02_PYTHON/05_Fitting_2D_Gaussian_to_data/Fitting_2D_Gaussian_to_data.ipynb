{
 "cells": [
  {
   "cell_type": "markdown",
   "id": "c5b12fc7",
   "metadata": {
    "ExecuteTime": {
     "end_time": "2021-12-20T03:18:13.862346Z",
     "start_time": "2021-12-20T03:18:13.817895Z"
    }
   },
   "source": [
    "<a href=\"https://github.com/milaan9/Machine_Learning_Algorithms_from_Scratch\"><img src=\"https://img.shields.io/badge/All the IPython Notebooks in Machine_Learning_Algorithms_from_Scratch lecture series by Dr. Milaan Parmar are available ➔ -GitHub-blueviolet.svg\" alt=\"logo\"/></a>"
   ]
  },
  {
   "cell_type": "code",
   "execution_count": 1,
   "id": "c7d6f26e",
   "metadata": {
    "ExecuteTime": {
     "end_time": "2021-12-20T07:34:27.110484Z",
     "start_time": "2021-12-20T07:34:20.316029Z"
    }
   },
   "outputs": [
    {
     "name": "stdout",
     "output_type": "stream",
     "text": [
      "data/yeast_training.txt\n",
      "⤵\n",
      "\n",
      "Class 1  mean = [ 0.52  0.54 ], sigma = [ 0.01  0.00  0.00  0.01]\n",
      "Class 2  mean = [ 0.45  0.45 ], sigma = [ 0.01  0.00  0.00  0.01]\n",
      "Class 3  mean = [ 0.43  0.48 ], sigma = [ 0.01  0.01  0.01  0.01]\n",
      "Class 4  mean = [ 0.79  0.76 ], sigma = [ 0.01  0.00  0.00  0.01]\n",
      "Class 5  mean = [ 0.74  0.62 ], sigma = [ 0.02  0.01  0.01  0.02]\n",
      "Class 6  mean = [ 0.54  0.50 ], sigma = [ 0.02  0.01  0.01  0.01]\n",
      "Class 7  mean = [ 0.48  0.47 ], sigma = [ 0.01  0.00  0.00  0.01]\n",
      "Class 8  mean = [ 0.74  0.73 ], sigma = [ 0.01  0.01  0.01  0.01]\n",
      "Class 9  mean = [ 0.55  0.56 ], sigma = [ 0.02  0.02  0.02  0.03]\n",
      "Class 10  mean = [ 0.78  0.73 ], sigma = [ 0.00  -0.01  -0.01  0.02]\n"
     ]
    }
   ],
   "source": [
    "import math\n",
    "\n",
    "\n",
    "class Task4:\n",
    "\tdef __init__(self, data):\n",
    "\t\tself.data_list = data\n",
    "\n",
    "\tdef calculate_mean(self, column_number):\n",
    "\t\tsummation = 0\n",
    "\t\tfor elements in self.data_list:\n",
    "\t\t\tsummation += elements[column_number]\n",
    "\t\tmean = summation / len(self.data_list)\n",
    "\t\treturn mean\n",
    "\n",
    "\tdef calculate_variance(self, column_number, mean):\n",
    "\t\tif len(self.data_list) == 0:\n",
    "\t\t\treturn 0\n",
    "\t\tsummation = 0\n",
    "\t\tfor elements in self.data_list:\n",
    "\t\t\tsummation += math.pow((elements[column_number] - mean), 2)\n",
    "\t\tsigma = math.sqrt(summation / (len(self.data_list) - 1))\n",
    "\t\treturn math.pow(sigma, 2)\n",
    "\n",
    "\tdef calculate_covariance(self, column1, column2, mean1, mean2):\n",
    "\t\tif len(self.data_list) == 0:\n",
    "\t\t\treturn 0\n",
    "\t\tsummation = 0\n",
    "\t\tfor elements in self.data_list:\n",
    "\t\t\tsummation += (elements[column1]-mean1) * (elements[column2]-mean2)\n",
    "\t\tsigma = summation / (len(self.data_list) - 1)\n",
    "\t\treturn sigma\n",
    "\n",
    "\n",
    "def load_data_set(filename):\n",
    "\tinput_file = open(filename, \"r\")\n",
    "\tprint(\"⤵\\n\")\n",
    "\tunique_labels = []\n",
    "\tdictionary = {}\n",
    "\tfor line in input_file:\n",
    "\t\trow_list = (line.split(\" \"))\n",
    "\t\trow_list = list(filter(None, row_list))\n",
    "\t\trow_list = list(map(float, row_list))\n",
    "\t\tif row_list[-1] in dictionary:\n",
    "\t\t\tdictionary[row_list[-1]].append(row_list[0: 2])\n",
    "\t\telse:\n",
    "\t\t\tunique_labels.append(row_list[-1])\n",
    "\t\t\tdictionary[row_list[-1]] = [row_list[0: 2]]\n",
    "\treturn dictionary, unique_labels\n",
    "\n",
    "\n",
    "def main():\n",
    "\tfile_path = input()\n",
    "\tdic, unique_labels = load_data_set(file_path)\n",
    "\tunique_labels.sort()\n",
    "\tfor label in unique_labels:\n",
    "\t\ttask4 = Task4(dic[label],)\n",
    "\t\tcolumn_mean1 = task4.calculate_mean(0)\n",
    "\t\tcolumn_mean2 = task4.calculate_mean(1)\n",
    "\t\tsigma1 = task4.calculate_variance(0, column_mean1)\n",
    "\t\tsigma2 = task4.calculate_covariance(0, 1, column_mean1, column_mean2)\n",
    "\t\tsigma4 = task4.calculate_variance(1, column_mean2)\n",
    "\t\tprint(\"Class %d\" % label, \" mean = [ %.2f\" % column_mean1, \" %.2f\" % column_mean2, \"], sigma = [ %.2f\" % sigma1, \" %.2f\" % sigma2, \" %.2f\" % sigma2, \" %.2f]\" % sigma4)\n",
    "\n",
    "main()\n",
    "\n",
    "\n",
    "# ▶ Run and Enter ➜ data/yeast_training.txt\n",
    "# or\n",
    "# ▶ Run and Enter ➜ data/satellite_training.txt"
   ]
  },
  {
   "cell_type": "code",
   "execution_count": null,
   "id": "5285289a",
   "metadata": {},
   "outputs": [],
   "source": []
  }
 ],
 "metadata": {
  "kernelspec": {
   "display_name": "Python 3",
   "language": "python",
   "name": "python3"
  },
  "language_info": {
   "codemirror_mode": {
    "name": "ipython",
    "version": 3
   },
   "file_extension": ".py",
   "mimetype": "text/x-python",
   "name": "python",
   "nbconvert_exporter": "python",
   "pygments_lexer": "ipython3",
   "version": "3.8.8"
  },
  "toc": {
   "base_numbering": 1,
   "nav_menu": {},
   "number_sections": true,
   "sideBar": true,
   "skip_h1_title": false,
   "title_cell": "Table of Contents",
   "title_sidebar": "Contents",
   "toc_cell": false,
   "toc_position": {},
   "toc_section_display": true,
   "toc_window_display": false
  },
  "varInspector": {
   "cols": {
    "lenName": 16,
    "lenType": 16,
    "lenVar": 40
   },
   "kernels_config": {
    "python": {
     "delete_cmd_postfix": "",
     "delete_cmd_prefix": "del ",
     "library": "var_list.py",
     "varRefreshCmd": "print(var_dic_list())"
    },
    "r": {
     "delete_cmd_postfix": ") ",
     "delete_cmd_prefix": "rm(",
     "library": "var_list.r",
     "varRefreshCmd": "cat(var_dic_list()) "
    }
   },
   "types_to_exclude": [
    "module",
    "function",
    "builtin_function_or_method",
    "instance",
    "_Feature"
   ],
   "window_display": false
  }
 },
 "nbformat": 4,
 "nbformat_minor": 5
}
