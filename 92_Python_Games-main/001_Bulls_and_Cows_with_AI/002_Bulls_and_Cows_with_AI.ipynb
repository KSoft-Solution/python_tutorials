{
 "cells": [
  {
   "cell_type": "markdown",
   "metadata": {},
   "source": [
    "<small><small><i>\n",
    "All the IPython Notebooks in this **Python Games** series by Dr. Milaan Parmar are available @ **[GitHub](https://github.com/milaan9/92_Python_Games)**\n",
    "</i></small></small>"
   ]
  },
  {
   "cell_type": "markdown",
   "metadata": {},
   "source": [
    "# Bulls and Cows with AI\n",
    "\n",
    "Adding a simple AI to the Bulls and Cows Game\n",
    "\n",
    "* 👱 🆚 🤖 (1 - player mode)"
   ]
  },
  {
   "cell_type": "code",
   "execution_count": 1,
   "metadata": {
    "ExecuteTime": {
     "end_time": "2021-07-26T21:00:30.328712Z",
     "start_time": "2021-07-26T20:57:22.296311Z"
    }
   },
   "outputs": [
    {
     "name": "stdout",
     "output_type": "stream",
     "text": [
      "Think about a number between 1000 and 9999\n",
      "such as its digits are distinct\n",
      "Let's start now : You 👱 Start\n",
      "\n",
      "\tYour 👱 turn\n",
      "Guess my number💭: 9874\n",
      "3 bulls and 0 cows\n",
      "\n",
      "\t  My 🤖 turn\n",
      "Number 🤖 guessed:  4027\n",
      "How many cows   ☆: 2\n",
      "How many bulls  ★: 0\n",
      "\n",
      "\tYour 👱 turn\n",
      "Guess my number💭: 9875\n",
      "2 bulls and 0 cows\n",
      "\n",
      "\t  My 🤖 turn\n",
      "Number 🤖 guessed:  7632\n",
      "How many cows   ☆: 1\n",
      "How many bulls  ★: 1\n",
      "\n",
      "\tYour 👱 turn\n",
      "Guess my number💭: 9275\n",
      "2 bulls and 0 cows\n",
      "\n",
      "\t  My 🤖 turn\n",
      "Number 🤖 guessed:  7314\n",
      "How many cows   ☆: 2\n",
      "How many bulls  ★: 1\n",
      "\n",
      "\tYour 👱 turn\n",
      "Guess my number💭: 9674\n",
      "4 bulls and 0 cows\n",
      "Wow! You're amazing, you managed to beat a robot as smart as me. Respect! 🙌\n",
      "\n",
      "Do you wish to play again❓ yes/no: no\n",
      "\n",
      " \n"
     ]
    }
   ],
   "source": [
    "####\tBulls and Cows with AI    ####\n",
    "\n",
    "import random \n",
    "def vt (g, n): # g ➡ string and n ➡ string  \n",
    "    t=v=0\n",
    "    for i in range(4) : \n",
    "        if g[i] == n[i] : \n",
    "            t+=1\n",
    "        elif g[i] in n : \n",
    "            v+=1\n",
    "    return (str(t) + str(v))\n",
    "\n",
    "def distinct (n) :  # n ➡ string\n",
    "    test = True\n",
    "    if n[0] == \"0\" : \n",
    "        test = False\n",
    "    if int(n) < 1000 or int(n) > 9999 : \n",
    "        test = False \n",
    "    if test == True : \n",
    "        for i in range(3) : \n",
    "            if (n.count(n[i]) > 1) : \n",
    "                test = False \n",
    "\n",
    "    return test \n",
    "\n",
    "def liste (k, u, g) :# k ➡ list,  u ➡ string, g ➡ string \n",
    "    r=[]\n",
    "    for i in k : \n",
    "        if vt(g,str(i)) == u : \n",
    "            r.append(i)\n",
    "    return r \n",
    "\n",
    "def k0 () : \n",
    "    s=[] \n",
    "    for i in range(1000, 10000) : \n",
    "        if distinct(str(i)) : \n",
    "            s.append(i)\n",
    "    return s \n",
    "\n",
    "\n",
    "stop = False \n",
    "while stop == False : \n",
    "    print (\"\"\"Think about a number between 1000 and 9999 💭\n",
    "such as its digits are distinct\n",
    "Let's start now : You 👱 Start\"\"\")\n",
    "    \n",
    "    possible = k0() # possible is a list of integer\n",
    "    num = possible [random.randint(0,len(possible)-1)]\n",
    "\n",
    "    while True :\n",
    "                while True : \n",
    "                    try : \n",
    "                        print (\"\\n\\tYour 👱 turn\") \n",
    "                        choice = str(int((input(\"Guess my number💭: \"))))\n",
    "                        if distinct (str(choice)) :\n",
    "                            break \n",
    "                    except : \n",
    "                        continue\n",
    "                print (vt(str(choice),str(num))[0] , \"bulls and\", vt(str(choice),str(num))[1], \"cows\") \n",
    "                if vt(str(choice),str(num) )[0] == \"4\" : \n",
    "                    print (\"Wow! You're amazing, you managed to beat a robot as smart as me. Respect! 🙌\") \n",
    "                    break \n",
    "                else : \n",
    "                    print (\"\\n\\t  My 🤖 turn\") \n",
    "\n",
    "\n",
    "                try :\n",
    "                    guess = str (possible [random.randint(0,len(possible)-1)] )\n",
    "                    if len (possible) == 1 : \n",
    "                        print(\"HAHAHA I won 💪: \" ,possible[0]) \n",
    "                        break \n",
    "\n",
    "                    print (\"Number 🤖 guessed: \" , guess ) \n",
    "                    v = input (\"How many cows   ☆: \") \n",
    "                    t = input (\"How many bulls  ★: \") \n",
    " \n",
    "                    vtt =  t+v \n",
    "                    if t == \"4\" : \n",
    "                        print (\"HAHAHAA! I won 💪: \" ,guess) \n",
    "                        break\n",
    "                       \n",
    "                    possible = liste (possible, vtt , guess)\n",
    "                    if len (possible) == 0 : \n",
    "                        print (\"You apparently made a mistake somewhere!😤\") \n",
    "                        break\n",
    "                except : \n",
    "                    print (\"You apparently made a mistake somewhere!😤\") \n",
    "                    break\n",
    "\n",
    "    while True :\n",
    "                    haha = input (\"\\nDo you wish to play again❓ yes/no: \")\n",
    "                    if \"no\" in haha or \"No\" in haha or \"NO\" in haha or \"yes\" in haha or \"YES\" in haha or \"Yes\" in haha:\n",
    "                        if \"no\" in haha or \"No\" in haha or \"NO\" in haha: \n",
    "                            stop = True\n",
    "                        break\n",
    "print(\"\"\"\n",
    " \"\"\")"
   ]
  },
  {
   "cell_type": "markdown",
   "metadata": {},
   "source": [
    "<div>\n",
    "<img src=\"img/output_2.png\" width=\"400\"/>\n",
    "</div>"
   ]
  },
  {
   "cell_type": "code",
   "execution_count": null,
   "metadata": {},
   "outputs": [],
   "source": []
  }
 ],
 "metadata": {
  "hide_input": false,
  "kernelspec": {
   "display_name": "Python 3",
   "language": "python",
   "name": "python3"
  },
  "language_info": {
   "codemirror_mode": {
    "name": "ipython",
    "version": 3
   },
   "file_extension": ".py",
   "mimetype": "text/x-python",
   "name": "python",
   "nbconvert_exporter": "python",
   "pygments_lexer": "ipython3",
   "version": "3.8.8"
  },
  "toc": {
   "base_numbering": 1,
   "nav_menu": {},
   "number_sections": true,
   "sideBar": true,
   "skip_h1_title": false,
   "title_cell": "Table of Contents",
   "title_sidebar": "Contents",
   "toc_cell": false,
   "toc_position": {},
   "toc_section_display": true,
   "toc_window_display": false
  },
  "varInspector": {
   "cols": {
    "lenName": 16,
    "lenType": 16,
    "lenVar": 40
   },
   "kernels_config": {
    "python": {
     "delete_cmd_postfix": "",
     "delete_cmd_prefix": "del ",
     "library": "var_list.py",
     "varRefreshCmd": "print(var_dic_list())"
    },
    "r": {
     "delete_cmd_postfix": ") ",
     "delete_cmd_prefix": "rm(",
     "library": "var_list.r",
     "varRefreshCmd": "cat(var_dic_list()) "
    }
   },
   "types_to_exclude": [
    "module",
    "function",
    "builtin_function_or_method",
    "instance",
    "_Feature"
   ],
   "window_display": false
  }
 },
 "nbformat": 4,
 "nbformat_minor": 4
}
